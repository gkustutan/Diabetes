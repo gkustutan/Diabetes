{
 "cells": [
  {
   "cell_type": "markdown",
   "id": "c650a67e",
   "metadata": {},
   "source": [
    "## Does occurence of diabetes differ based on existence of other health conditions like obesity, high blood pressure, high cholesterol, stroke or heart attack ?"
   ]
  },
  {
   "cell_type": "markdown",
   "id": "17f57979",
   "metadata": {},
   "source": [
    "<h3><center> Prepared by: Gulen Kustutan </center></h3>"
   ]
  },
  {
   "cell_type": "markdown",
   "id": "2f5f42b8",
   "metadata": {},
   "source": [
    "##### Background Information on Diabetes :\n",
    "Diabetes is a chronic condition that is caused due to body's inability to effectively produce or efficiently use insulin hormone which regulates the way sugar used and stored in the body. This condition affects 10.5% of global adult population and 11.6% of US adult population (CDC reference). There is currently no cure for diabetes but the treatment can help manage the condition. In this data analysis study, we are aiming to study and understand if there is a relationship between the occurence of diabetes based on presence of other health factors such as obesity, high blood pressure, high cholesterol, stroke or heart disease.\n"
   ]
  },
  {
   "cell_type": "markdown",
   "id": "f0a132bf",
   "metadata": {},
   "source": [
    "##### Data Set : <br>\n",
    "The dataset diabetes _ binary _ health _ indicators _ BRFSS2015.csv that is being used in this data analysis study contains 253,680 survey responses to the CDC's BRFSS2015. The target variable Diabetes_binary has 2 classes. 0 is for no diabetes, and 1 is for prediabetes or diabetes. \n",
    "##### Dataset contains the following variables:\n",
    "High Blood Pressure, High Cholesterol, Cholesterol Check, BMI, Smoker, Stroke, Heart Disease or Attack, Physical Activity, Fruits, Veggies, Heavy Alcohol Consumption, Any Healthcare, No Doctor because of Cost, General Health, Mental Health, Physical Health, Difficulty of Walking, Sex, Age, Education, and Income.<br>\n",
    "##### Data Representation:\n",
    "Responses of individuals who have attended to the survey have been marked as follows:<br>\n",
    "0: This value signifies that the individual reported \"No\".<br>\n",
    "1: This value signifies that the individual reported \"Yes\".<br>\n"
   ]
  },
  {
   "cell_type": "markdown",
   "id": "ac83e376",
   "metadata": {},
   "source": [
    "##### Data Preparation:\n",
    "Data preparation step involves loading the dataset into the Jupyter Notebook and exploring to understand the structure and features. If there are any columns or rows with missing values these should be removed before analysis."
   ]
  },
  {
   "cell_type": "code",
   "execution_count": 234,
   "id": "c96e16d5",
   "metadata": {},
   "outputs": [],
   "source": [
    "#Load libraries\n",
    "import numpy as np\n",
    "import pandas as pd\n",
    "from scipy import stats\n",
    "import statistics as stat\n",
    "import matplotlib.pyplot as plt\n",
    "%matplotlib inline\n",
    "import seaborn as sns"
   ]
  },
  {
   "cell_type": "code",
   "execution_count": 235,
   "id": "4b055a54",
   "metadata": {
    "scrolled": true
   },
   "outputs": [
    {
     "data": {
      "text/html": [
       "<div>\n",
       "<style scoped>\n",
       "    .dataframe tbody tr th:only-of-type {\n",
       "        vertical-align: middle;\n",
       "    }\n",
       "\n",
       "    .dataframe tbody tr th {\n",
       "        vertical-align: top;\n",
       "    }\n",
       "\n",
       "    .dataframe thead th {\n",
       "        text-align: right;\n",
       "    }\n",
       "</style>\n",
       "<table border=\"1\" class=\"dataframe\">\n",
       "  <thead>\n",
       "    <tr style=\"text-align: right;\">\n",
       "      <th></th>\n",
       "      <th>Diabetes_binary</th>\n",
       "      <th>HighBP</th>\n",
       "      <th>HighChol</th>\n",
       "      <th>CholCheck</th>\n",
       "      <th>BMI</th>\n",
       "      <th>Smoker</th>\n",
       "      <th>Stroke</th>\n",
       "      <th>HeartDiseaseorAttack</th>\n",
       "      <th>PhysActivity</th>\n",
       "      <th>Fruits</th>\n",
       "      <th>...</th>\n",
       "      <th>AnyHealthcare</th>\n",
       "      <th>NoDocbcCost</th>\n",
       "      <th>GenHlth</th>\n",
       "      <th>MentHlth</th>\n",
       "      <th>PhysHlth</th>\n",
       "      <th>DiffWalk</th>\n",
       "      <th>Sex</th>\n",
       "      <th>Age</th>\n",
       "      <th>Education</th>\n",
       "      <th>Income</th>\n",
       "    </tr>\n",
       "  </thead>\n",
       "  <tbody>\n",
       "    <tr>\n",
       "      <th>0</th>\n",
       "      <td>0.0</td>\n",
       "      <td>1.0</td>\n",
       "      <td>1.0</td>\n",
       "      <td>1.0</td>\n",
       "      <td>40.0</td>\n",
       "      <td>1.0</td>\n",
       "      <td>0.0</td>\n",
       "      <td>0.0</td>\n",
       "      <td>0.0</td>\n",
       "      <td>0.0</td>\n",
       "      <td>...</td>\n",
       "      <td>1.0</td>\n",
       "      <td>0.0</td>\n",
       "      <td>5.0</td>\n",
       "      <td>18.0</td>\n",
       "      <td>15.0</td>\n",
       "      <td>1.0</td>\n",
       "      <td>0.0</td>\n",
       "      <td>9.0</td>\n",
       "      <td>4.0</td>\n",
       "      <td>3.0</td>\n",
       "    </tr>\n",
       "    <tr>\n",
       "      <th>1</th>\n",
       "      <td>0.0</td>\n",
       "      <td>0.0</td>\n",
       "      <td>0.0</td>\n",
       "      <td>0.0</td>\n",
       "      <td>25.0</td>\n",
       "      <td>1.0</td>\n",
       "      <td>0.0</td>\n",
       "      <td>0.0</td>\n",
       "      <td>1.0</td>\n",
       "      <td>0.0</td>\n",
       "      <td>...</td>\n",
       "      <td>0.0</td>\n",
       "      <td>1.0</td>\n",
       "      <td>3.0</td>\n",
       "      <td>0.0</td>\n",
       "      <td>0.0</td>\n",
       "      <td>0.0</td>\n",
       "      <td>0.0</td>\n",
       "      <td>7.0</td>\n",
       "      <td>6.0</td>\n",
       "      <td>1.0</td>\n",
       "    </tr>\n",
       "    <tr>\n",
       "      <th>2</th>\n",
       "      <td>0.0</td>\n",
       "      <td>1.0</td>\n",
       "      <td>1.0</td>\n",
       "      <td>1.0</td>\n",
       "      <td>28.0</td>\n",
       "      <td>0.0</td>\n",
       "      <td>0.0</td>\n",
       "      <td>0.0</td>\n",
       "      <td>0.0</td>\n",
       "      <td>1.0</td>\n",
       "      <td>...</td>\n",
       "      <td>1.0</td>\n",
       "      <td>1.0</td>\n",
       "      <td>5.0</td>\n",
       "      <td>30.0</td>\n",
       "      <td>30.0</td>\n",
       "      <td>1.0</td>\n",
       "      <td>0.0</td>\n",
       "      <td>9.0</td>\n",
       "      <td>4.0</td>\n",
       "      <td>8.0</td>\n",
       "    </tr>\n",
       "    <tr>\n",
       "      <th>3</th>\n",
       "      <td>0.0</td>\n",
       "      <td>1.0</td>\n",
       "      <td>0.0</td>\n",
       "      <td>1.0</td>\n",
       "      <td>27.0</td>\n",
       "      <td>0.0</td>\n",
       "      <td>0.0</td>\n",
       "      <td>0.0</td>\n",
       "      <td>1.0</td>\n",
       "      <td>1.0</td>\n",
       "      <td>...</td>\n",
       "      <td>1.0</td>\n",
       "      <td>0.0</td>\n",
       "      <td>2.0</td>\n",
       "      <td>0.0</td>\n",
       "      <td>0.0</td>\n",
       "      <td>0.0</td>\n",
       "      <td>0.0</td>\n",
       "      <td>11.0</td>\n",
       "      <td>3.0</td>\n",
       "      <td>6.0</td>\n",
       "    </tr>\n",
       "    <tr>\n",
       "      <th>4</th>\n",
       "      <td>0.0</td>\n",
       "      <td>1.0</td>\n",
       "      <td>1.0</td>\n",
       "      <td>1.0</td>\n",
       "      <td>24.0</td>\n",
       "      <td>0.0</td>\n",
       "      <td>0.0</td>\n",
       "      <td>0.0</td>\n",
       "      <td>1.0</td>\n",
       "      <td>1.0</td>\n",
       "      <td>...</td>\n",
       "      <td>1.0</td>\n",
       "      <td>0.0</td>\n",
       "      <td>2.0</td>\n",
       "      <td>3.0</td>\n",
       "      <td>0.0</td>\n",
       "      <td>0.0</td>\n",
       "      <td>0.0</td>\n",
       "      <td>11.0</td>\n",
       "      <td>5.0</td>\n",
       "      <td>4.0</td>\n",
       "    </tr>\n",
       "    <tr>\n",
       "      <th>...</th>\n",
       "      <td>...</td>\n",
       "      <td>...</td>\n",
       "      <td>...</td>\n",
       "      <td>...</td>\n",
       "      <td>...</td>\n",
       "      <td>...</td>\n",
       "      <td>...</td>\n",
       "      <td>...</td>\n",
       "      <td>...</td>\n",
       "      <td>...</td>\n",
       "      <td>...</td>\n",
       "      <td>...</td>\n",
       "      <td>...</td>\n",
       "      <td>...</td>\n",
       "      <td>...</td>\n",
       "      <td>...</td>\n",
       "      <td>...</td>\n",
       "      <td>...</td>\n",
       "      <td>...</td>\n",
       "      <td>...</td>\n",
       "      <td>...</td>\n",
       "    </tr>\n",
       "    <tr>\n",
       "      <th>253675</th>\n",
       "      <td>0.0</td>\n",
       "      <td>1.0</td>\n",
       "      <td>1.0</td>\n",
       "      <td>1.0</td>\n",
       "      <td>45.0</td>\n",
       "      <td>0.0</td>\n",
       "      <td>0.0</td>\n",
       "      <td>0.0</td>\n",
       "      <td>0.0</td>\n",
       "      <td>1.0</td>\n",
       "      <td>...</td>\n",
       "      <td>1.0</td>\n",
       "      <td>0.0</td>\n",
       "      <td>3.0</td>\n",
       "      <td>0.0</td>\n",
       "      <td>5.0</td>\n",
       "      <td>0.0</td>\n",
       "      <td>1.0</td>\n",
       "      <td>5.0</td>\n",
       "      <td>6.0</td>\n",
       "      <td>7.0</td>\n",
       "    </tr>\n",
       "    <tr>\n",
       "      <th>253676</th>\n",
       "      <td>1.0</td>\n",
       "      <td>1.0</td>\n",
       "      <td>1.0</td>\n",
       "      <td>1.0</td>\n",
       "      <td>18.0</td>\n",
       "      <td>0.0</td>\n",
       "      <td>0.0</td>\n",
       "      <td>0.0</td>\n",
       "      <td>0.0</td>\n",
       "      <td>0.0</td>\n",
       "      <td>...</td>\n",
       "      <td>1.0</td>\n",
       "      <td>0.0</td>\n",
       "      <td>4.0</td>\n",
       "      <td>0.0</td>\n",
       "      <td>0.0</td>\n",
       "      <td>1.0</td>\n",
       "      <td>0.0</td>\n",
       "      <td>11.0</td>\n",
       "      <td>2.0</td>\n",
       "      <td>4.0</td>\n",
       "    </tr>\n",
       "    <tr>\n",
       "      <th>253677</th>\n",
       "      <td>0.0</td>\n",
       "      <td>0.0</td>\n",
       "      <td>0.0</td>\n",
       "      <td>1.0</td>\n",
       "      <td>28.0</td>\n",
       "      <td>0.0</td>\n",
       "      <td>0.0</td>\n",
       "      <td>0.0</td>\n",
       "      <td>1.0</td>\n",
       "      <td>1.0</td>\n",
       "      <td>...</td>\n",
       "      <td>1.0</td>\n",
       "      <td>0.0</td>\n",
       "      <td>1.0</td>\n",
       "      <td>0.0</td>\n",
       "      <td>0.0</td>\n",
       "      <td>0.0</td>\n",
       "      <td>0.0</td>\n",
       "      <td>2.0</td>\n",
       "      <td>5.0</td>\n",
       "      <td>2.0</td>\n",
       "    </tr>\n",
       "    <tr>\n",
       "      <th>253678</th>\n",
       "      <td>0.0</td>\n",
       "      <td>1.0</td>\n",
       "      <td>0.0</td>\n",
       "      <td>1.0</td>\n",
       "      <td>23.0</td>\n",
       "      <td>0.0</td>\n",
       "      <td>0.0</td>\n",
       "      <td>0.0</td>\n",
       "      <td>0.0</td>\n",
       "      <td>1.0</td>\n",
       "      <td>...</td>\n",
       "      <td>1.0</td>\n",
       "      <td>0.0</td>\n",
       "      <td>3.0</td>\n",
       "      <td>0.0</td>\n",
       "      <td>0.0</td>\n",
       "      <td>0.0</td>\n",
       "      <td>1.0</td>\n",
       "      <td>7.0</td>\n",
       "      <td>5.0</td>\n",
       "      <td>1.0</td>\n",
       "    </tr>\n",
       "    <tr>\n",
       "      <th>253679</th>\n",
       "      <td>1.0</td>\n",
       "      <td>1.0</td>\n",
       "      <td>1.0</td>\n",
       "      <td>1.0</td>\n",
       "      <td>25.0</td>\n",
       "      <td>0.0</td>\n",
       "      <td>0.0</td>\n",
       "      <td>1.0</td>\n",
       "      <td>1.0</td>\n",
       "      <td>1.0</td>\n",
       "      <td>...</td>\n",
       "      <td>1.0</td>\n",
       "      <td>0.0</td>\n",
       "      <td>2.0</td>\n",
       "      <td>0.0</td>\n",
       "      <td>0.0</td>\n",
       "      <td>0.0</td>\n",
       "      <td>0.0</td>\n",
       "      <td>9.0</td>\n",
       "      <td>6.0</td>\n",
       "      <td>2.0</td>\n",
       "    </tr>\n",
       "  </tbody>\n",
       "</table>\n",
       "<p>253680 rows × 22 columns</p>\n",
       "</div>"
      ],
      "text/plain": [
       "        Diabetes_binary  HighBP  HighChol  CholCheck   BMI  Smoker  Stroke  \\\n",
       "0                   0.0     1.0       1.0        1.0  40.0     1.0     0.0   \n",
       "1                   0.0     0.0       0.0        0.0  25.0     1.0     0.0   \n",
       "2                   0.0     1.0       1.0        1.0  28.0     0.0     0.0   \n",
       "3                   0.0     1.0       0.0        1.0  27.0     0.0     0.0   \n",
       "4                   0.0     1.0       1.0        1.0  24.0     0.0     0.0   \n",
       "...                 ...     ...       ...        ...   ...     ...     ...   \n",
       "253675              0.0     1.0       1.0        1.0  45.0     0.0     0.0   \n",
       "253676              1.0     1.0       1.0        1.0  18.0     0.0     0.0   \n",
       "253677              0.0     0.0       0.0        1.0  28.0     0.0     0.0   \n",
       "253678              0.0     1.0       0.0        1.0  23.0     0.0     0.0   \n",
       "253679              1.0     1.0       1.0        1.0  25.0     0.0     0.0   \n",
       "\n",
       "        HeartDiseaseorAttack  PhysActivity  Fruits  ...  AnyHealthcare  \\\n",
       "0                        0.0           0.0     0.0  ...            1.0   \n",
       "1                        0.0           1.0     0.0  ...            0.0   \n",
       "2                        0.0           0.0     1.0  ...            1.0   \n",
       "3                        0.0           1.0     1.0  ...            1.0   \n",
       "4                        0.0           1.0     1.0  ...            1.0   \n",
       "...                      ...           ...     ...  ...            ...   \n",
       "253675                   0.0           0.0     1.0  ...            1.0   \n",
       "253676                   0.0           0.0     0.0  ...            1.0   \n",
       "253677                   0.0           1.0     1.0  ...            1.0   \n",
       "253678                   0.0           0.0     1.0  ...            1.0   \n",
       "253679                   1.0           1.0     1.0  ...            1.0   \n",
       "\n",
       "        NoDocbcCost  GenHlth  MentHlth  PhysHlth  DiffWalk  Sex   Age  \\\n",
       "0               0.0      5.0      18.0      15.0       1.0  0.0   9.0   \n",
       "1               1.0      3.0       0.0       0.0       0.0  0.0   7.0   \n",
       "2               1.0      5.0      30.0      30.0       1.0  0.0   9.0   \n",
       "3               0.0      2.0       0.0       0.0       0.0  0.0  11.0   \n",
       "4               0.0      2.0       3.0       0.0       0.0  0.0  11.0   \n",
       "...             ...      ...       ...       ...       ...  ...   ...   \n",
       "253675          0.0      3.0       0.0       5.0       0.0  1.0   5.0   \n",
       "253676          0.0      4.0       0.0       0.0       1.0  0.0  11.0   \n",
       "253677          0.0      1.0       0.0       0.0       0.0  0.0   2.0   \n",
       "253678          0.0      3.0       0.0       0.0       0.0  1.0   7.0   \n",
       "253679          0.0      2.0       0.0       0.0       0.0  0.0   9.0   \n",
       "\n",
       "        Education  Income  \n",
       "0             4.0     3.0  \n",
       "1             6.0     1.0  \n",
       "2             4.0     8.0  \n",
       "3             3.0     6.0  \n",
       "4             5.0     4.0  \n",
       "...           ...     ...  \n",
       "253675        6.0     7.0  \n",
       "253676        2.0     4.0  \n",
       "253677        5.0     2.0  \n",
       "253678        5.0     1.0  \n",
       "253679        6.0     2.0  \n",
       "\n",
       "[253680 rows x 22 columns]"
      ]
     },
     "execution_count": 235,
     "metadata": {},
     "output_type": "execute_result"
    }
   ],
   "source": [
    "#Load the dataset containing the survey responses of individuals\n",
    "data = pd.read_csv('diabetes_binary_health_indicators_BRFSS2015.csv')\n",
    "data"
   ]
  },
  {
   "cell_type": "code",
   "execution_count": 236,
   "id": "a027c632",
   "metadata": {},
   "outputs": [
    {
     "data": {
      "text/plain": [
       "Index(['Diabetes_binary', 'HighBP', 'HighChol', 'CholCheck', 'BMI', 'Smoker',\n",
       "       'Stroke', 'HeartDiseaseorAttack', 'PhysActivity', 'Fruits', 'Veggies',\n",
       "       'HvyAlcoholConsump', 'AnyHealthcare', 'NoDocbcCost', 'GenHlth',\n",
       "       'MentHlth', 'PhysHlth', 'DiffWalk', 'Sex', 'Age', 'Education',\n",
       "       'Income'],\n",
       "      dtype='object')"
      ]
     },
     "execution_count": 236,
     "metadata": {},
     "output_type": "execute_result"
    }
   ],
   "source": [
    "#Display the name of columns used in the dataset\n",
    "data.columns"
   ]
  },
  {
   "cell_type": "code",
   "execution_count": 237,
   "id": "7bfa238e",
   "metadata": {},
   "outputs": [
    {
     "data": {
      "text/html": [
       "<div>\n",
       "<style scoped>\n",
       "    .dataframe tbody tr th:only-of-type {\n",
       "        vertical-align: middle;\n",
       "    }\n",
       "\n",
       "    .dataframe tbody tr th {\n",
       "        vertical-align: top;\n",
       "    }\n",
       "\n",
       "    .dataframe thead th {\n",
       "        text-align: right;\n",
       "    }\n",
       "</style>\n",
       "<table border=\"1\" class=\"dataframe\">\n",
       "  <thead>\n",
       "    <tr style=\"text-align: right;\">\n",
       "      <th></th>\n",
       "      <th>Diabetes_binary</th>\n",
       "      <th>HighBP</th>\n",
       "      <th>HighChol</th>\n",
       "      <th>CholCheck</th>\n",
       "      <th>BMI</th>\n",
       "      <th>Smoker</th>\n",
       "      <th>Stroke</th>\n",
       "      <th>HeartDiseaseorAttack</th>\n",
       "      <th>PhysActivity</th>\n",
       "      <th>Fruits</th>\n",
       "      <th>...</th>\n",
       "      <th>AnyHealthcare</th>\n",
       "      <th>NoDocbcCost</th>\n",
       "      <th>GenHlth</th>\n",
       "      <th>MentHlth</th>\n",
       "      <th>PhysHlth</th>\n",
       "      <th>DiffWalk</th>\n",
       "      <th>Sex</th>\n",
       "      <th>Age</th>\n",
       "      <th>Education</th>\n",
       "      <th>Income</th>\n",
       "    </tr>\n",
       "  </thead>\n",
       "  <tbody>\n",
       "    <tr>\n",
       "      <th>0</th>\n",
       "      <td>0.0</td>\n",
       "      <td>1.0</td>\n",
       "      <td>1.0</td>\n",
       "      <td>1.0</td>\n",
       "      <td>40.0</td>\n",
       "      <td>1.0</td>\n",
       "      <td>0.0</td>\n",
       "      <td>0.0</td>\n",
       "      <td>0.0</td>\n",
       "      <td>0.0</td>\n",
       "      <td>...</td>\n",
       "      <td>1.0</td>\n",
       "      <td>0.0</td>\n",
       "      <td>5.0</td>\n",
       "      <td>18.0</td>\n",
       "      <td>15.0</td>\n",
       "      <td>1.0</td>\n",
       "      <td>0.0</td>\n",
       "      <td>9.0</td>\n",
       "      <td>4.0</td>\n",
       "      <td>3.0</td>\n",
       "    </tr>\n",
       "    <tr>\n",
       "      <th>1</th>\n",
       "      <td>0.0</td>\n",
       "      <td>0.0</td>\n",
       "      <td>0.0</td>\n",
       "      <td>0.0</td>\n",
       "      <td>25.0</td>\n",
       "      <td>1.0</td>\n",
       "      <td>0.0</td>\n",
       "      <td>0.0</td>\n",
       "      <td>1.0</td>\n",
       "      <td>0.0</td>\n",
       "      <td>...</td>\n",
       "      <td>0.0</td>\n",
       "      <td>1.0</td>\n",
       "      <td>3.0</td>\n",
       "      <td>0.0</td>\n",
       "      <td>0.0</td>\n",
       "      <td>0.0</td>\n",
       "      <td>0.0</td>\n",
       "      <td>7.0</td>\n",
       "      <td>6.0</td>\n",
       "      <td>1.0</td>\n",
       "    </tr>\n",
       "    <tr>\n",
       "      <th>2</th>\n",
       "      <td>0.0</td>\n",
       "      <td>1.0</td>\n",
       "      <td>1.0</td>\n",
       "      <td>1.0</td>\n",
       "      <td>28.0</td>\n",
       "      <td>0.0</td>\n",
       "      <td>0.0</td>\n",
       "      <td>0.0</td>\n",
       "      <td>0.0</td>\n",
       "      <td>1.0</td>\n",
       "      <td>...</td>\n",
       "      <td>1.0</td>\n",
       "      <td>1.0</td>\n",
       "      <td>5.0</td>\n",
       "      <td>30.0</td>\n",
       "      <td>30.0</td>\n",
       "      <td>1.0</td>\n",
       "      <td>0.0</td>\n",
       "      <td>9.0</td>\n",
       "      <td>4.0</td>\n",
       "      <td>8.0</td>\n",
       "    </tr>\n",
       "    <tr>\n",
       "      <th>3</th>\n",
       "      <td>0.0</td>\n",
       "      <td>1.0</td>\n",
       "      <td>0.0</td>\n",
       "      <td>1.0</td>\n",
       "      <td>27.0</td>\n",
       "      <td>0.0</td>\n",
       "      <td>0.0</td>\n",
       "      <td>0.0</td>\n",
       "      <td>1.0</td>\n",
       "      <td>1.0</td>\n",
       "      <td>...</td>\n",
       "      <td>1.0</td>\n",
       "      <td>0.0</td>\n",
       "      <td>2.0</td>\n",
       "      <td>0.0</td>\n",
       "      <td>0.0</td>\n",
       "      <td>0.0</td>\n",
       "      <td>0.0</td>\n",
       "      <td>11.0</td>\n",
       "      <td>3.0</td>\n",
       "      <td>6.0</td>\n",
       "    </tr>\n",
       "    <tr>\n",
       "      <th>4</th>\n",
       "      <td>0.0</td>\n",
       "      <td>1.0</td>\n",
       "      <td>1.0</td>\n",
       "      <td>1.0</td>\n",
       "      <td>24.0</td>\n",
       "      <td>0.0</td>\n",
       "      <td>0.0</td>\n",
       "      <td>0.0</td>\n",
       "      <td>1.0</td>\n",
       "      <td>1.0</td>\n",
       "      <td>...</td>\n",
       "      <td>1.0</td>\n",
       "      <td>0.0</td>\n",
       "      <td>2.0</td>\n",
       "      <td>3.0</td>\n",
       "      <td>0.0</td>\n",
       "      <td>0.0</td>\n",
       "      <td>0.0</td>\n",
       "      <td>11.0</td>\n",
       "      <td>5.0</td>\n",
       "      <td>4.0</td>\n",
       "    </tr>\n",
       "  </tbody>\n",
       "</table>\n",
       "<p>5 rows × 22 columns</p>\n",
       "</div>"
      ],
      "text/plain": [
       "   Diabetes_binary  HighBP  HighChol  CholCheck   BMI  Smoker  Stroke  \\\n",
       "0              0.0     1.0       1.0        1.0  40.0     1.0     0.0   \n",
       "1              0.0     0.0       0.0        0.0  25.0     1.0     0.0   \n",
       "2              0.0     1.0       1.0        1.0  28.0     0.0     0.0   \n",
       "3              0.0     1.0       0.0        1.0  27.0     0.0     0.0   \n",
       "4              0.0     1.0       1.0        1.0  24.0     0.0     0.0   \n",
       "\n",
       "   HeartDiseaseorAttack  PhysActivity  Fruits  ...  AnyHealthcare  \\\n",
       "0                   0.0           0.0     0.0  ...            1.0   \n",
       "1                   0.0           1.0     0.0  ...            0.0   \n",
       "2                   0.0           0.0     1.0  ...            1.0   \n",
       "3                   0.0           1.0     1.0  ...            1.0   \n",
       "4                   0.0           1.0     1.0  ...            1.0   \n",
       "\n",
       "   NoDocbcCost  GenHlth  MentHlth  PhysHlth  DiffWalk  Sex   Age  Education  \\\n",
       "0          0.0      5.0      18.0      15.0       1.0  0.0   9.0        4.0   \n",
       "1          1.0      3.0       0.0       0.0       0.0  0.0   7.0        6.0   \n",
       "2          1.0      5.0      30.0      30.0       1.0  0.0   9.0        4.0   \n",
       "3          0.0      2.0       0.0       0.0       0.0  0.0  11.0        3.0   \n",
       "4          0.0      2.0       3.0       0.0       0.0  0.0  11.0        5.0   \n",
       "\n",
       "   Income  \n",
       "0     3.0  \n",
       "1     1.0  \n",
       "2     8.0  \n",
       "3     6.0  \n",
       "4     4.0  \n",
       "\n",
       "[5 rows x 22 columns]"
      ]
     },
     "execution_count": 237,
     "metadata": {},
     "output_type": "execute_result"
    }
   ],
   "source": [
    "# Display the columns that the dataset contains\n",
    "data.head()"
   ]
  },
  {
   "cell_type": "code",
   "execution_count": 238,
   "id": "7cdba4b2",
   "metadata": {},
   "outputs": [
    {
     "name": "stdout",
     "output_type": "stream",
     "text": [
      "diabetes_binary_health_indicators_BRFSS2015: (253680, 22)\n"
     ]
    }
   ],
   "source": [
    "# Displays the number of columns and rows that the dataset contains\n",
    "print(\"diabetes_binary_health_indicators_BRFSS2015: {}\".format(data.shape))"
   ]
  },
  {
   "cell_type": "code",
   "execution_count": 239,
   "id": "a4d5b56c",
   "metadata": {},
   "outputs": [
    {
     "data": {
      "text/plain": [
       "Diabetes_binary\n",
       "0.0    218334\n",
       "1.0     35346\n",
       "dtype: int64"
      ]
     },
     "execution_count": 239,
     "metadata": {},
     "output_type": "execute_result"
    }
   ],
   "source": [
    "# Display the number of individuals who has diabetes vs indiduals who do not have diabetes\n",
    "data.groupby('Diabetes_binary').size()"
   ]
  },
  {
   "cell_type": "code",
   "execution_count": 240,
   "id": "fe4a7e67",
   "metadata": {},
   "outputs": [
    {
     "data": {
      "text/plain": [
       "Diabetes_binary         0\n",
       "HighBP                  0\n",
       "HighChol                0\n",
       "CholCheck               0\n",
       "BMI                     0\n",
       "Smoker                  0\n",
       "Stroke                  0\n",
       "HeartDiseaseorAttack    0\n",
       "PhysActivity            0\n",
       "Fruits                  0\n",
       "Veggies                 0\n",
       "HvyAlcoholConsump       0\n",
       "AnyHealthcare           0\n",
       "NoDocbcCost             0\n",
       "GenHlth                 0\n",
       "MentHlth                0\n",
       "PhysHlth                0\n",
       "DiffWalk                0\n",
       "Sex                     0\n",
       "Age                     0\n",
       "Education               0\n",
       "Income                  0\n",
       "dtype: int64"
      ]
     },
     "execution_count": 240,
     "metadata": {},
     "output_type": "execute_result"
    }
   ],
   "source": [
    "# Display any missing data \n",
    "data.isnull().sum()\n",
    "data.isna().sum()"
   ]
  },
  {
   "cell_type": "markdown",
   "id": "761078d0",
   "metadata": {},
   "source": [
    "### Correlation Matrix and Heatmap to Understand Relationship between Variables in Dataset\n",
    "\n",
    "Creating a correlation matrix helps better visualize the relationship of variables in the dataset. To start our data analysis, we can create a correlation matrix of all variables in our dataset to find out which variables might have some kind of association. In a correlation matrix, each cell represents the correlation coefficient between two variables. A positive coefficient indicates a positive correlation, meaning that as one variable increases, the other variable also increases. A negative coefficient indicates a negative correlation which means that as one variable increases the other tends to decrease. Correlation coefficient ranges between -1 and 1. A correlation coefficient closer to either -1 and 1 indicates a stronger correlation while a value closer to 0 indicates a weaker correlation.  Heatmap function of Seaborn library provides us a coloured matrix that enables easy differentiation of correlated variables."
   ]
  },
  {
   "cell_type": "code",
   "execution_count": 241,
   "id": "bf3c23fa",
   "metadata": {},
   "outputs": [
    {
     "data": {
      "text/html": [
       "<div>\n",
       "<style scoped>\n",
       "    .dataframe tbody tr th:only-of-type {\n",
       "        vertical-align: middle;\n",
       "    }\n",
       "\n",
       "    .dataframe tbody tr th {\n",
       "        vertical-align: top;\n",
       "    }\n",
       "\n",
       "    .dataframe thead th {\n",
       "        text-align: right;\n",
       "    }\n",
       "</style>\n",
       "<table border=\"1\" class=\"dataframe\">\n",
       "  <thead>\n",
       "    <tr style=\"text-align: right;\">\n",
       "      <th></th>\n",
       "      <th>Diabetes_binary</th>\n",
       "      <th>HighBP</th>\n",
       "      <th>HighChol</th>\n",
       "      <th>CholCheck</th>\n",
       "      <th>BMI</th>\n",
       "      <th>Smoker</th>\n",
       "      <th>Stroke</th>\n",
       "      <th>HeartDiseaseorAttack</th>\n",
       "      <th>PhysActivity</th>\n",
       "      <th>Fruits</th>\n",
       "      <th>...</th>\n",
       "      <th>AnyHealthcare</th>\n",
       "      <th>NoDocbcCost</th>\n",
       "      <th>GenHlth</th>\n",
       "      <th>MentHlth</th>\n",
       "      <th>PhysHlth</th>\n",
       "      <th>DiffWalk</th>\n",
       "      <th>Sex</th>\n",
       "      <th>Age</th>\n",
       "      <th>Education</th>\n",
       "      <th>Income</th>\n",
       "    </tr>\n",
       "  </thead>\n",
       "  <tbody>\n",
       "    <tr>\n",
       "      <th>Diabetes_binary</th>\n",
       "      <td>1.000000</td>\n",
       "      <td>0.263129</td>\n",
       "      <td>0.200276</td>\n",
       "      <td>0.064761</td>\n",
       "      <td>0.226314</td>\n",
       "      <td>0.060789</td>\n",
       "      <td>0.105816</td>\n",
       "      <td>0.177282</td>\n",
       "      <td>-0.118133</td>\n",
       "      <td>-0.040779</td>\n",
       "      <td>...</td>\n",
       "      <td>0.016255</td>\n",
       "      <td>0.031433</td>\n",
       "      <td>0.287697</td>\n",
       "      <td>0.040049</td>\n",
       "      <td>0.156752</td>\n",
       "      <td>0.218344</td>\n",
       "      <td>0.031430</td>\n",
       "      <td>0.177684</td>\n",
       "      <td>-0.120038</td>\n",
       "      <td>-0.163305</td>\n",
       "    </tr>\n",
       "    <tr>\n",
       "      <th>HighBP</th>\n",
       "      <td>0.263129</td>\n",
       "      <td>1.000000</td>\n",
       "      <td>0.298199</td>\n",
       "      <td>0.098508</td>\n",
       "      <td>0.243756</td>\n",
       "      <td>0.096991</td>\n",
       "      <td>0.129575</td>\n",
       "      <td>0.209361</td>\n",
       "      <td>-0.125267</td>\n",
       "      <td>-0.040555</td>\n",
       "      <td>...</td>\n",
       "      <td>0.038425</td>\n",
       "      <td>0.017358</td>\n",
       "      <td>0.303300</td>\n",
       "      <td>0.020499</td>\n",
       "      <td>0.149550</td>\n",
       "      <td>0.223618</td>\n",
       "      <td>0.052207</td>\n",
       "      <td>0.344535</td>\n",
       "      <td>-0.141970</td>\n",
       "      <td>-0.179161</td>\n",
       "    </tr>\n",
       "    <tr>\n",
       "      <th>HighChol</th>\n",
       "      <td>0.200276</td>\n",
       "      <td>0.298199</td>\n",
       "      <td>1.000000</td>\n",
       "      <td>0.085642</td>\n",
       "      <td>0.136298</td>\n",
       "      <td>0.091299</td>\n",
       "      <td>0.092620</td>\n",
       "      <td>0.180765</td>\n",
       "      <td>-0.078046</td>\n",
       "      <td>-0.040859</td>\n",
       "      <td>...</td>\n",
       "      <td>0.042230</td>\n",
       "      <td>0.013310</td>\n",
       "      <td>0.208640</td>\n",
       "      <td>0.044060</td>\n",
       "      <td>0.119331</td>\n",
       "      <td>0.144672</td>\n",
       "      <td>0.031205</td>\n",
       "      <td>0.266355</td>\n",
       "      <td>-0.068850</td>\n",
       "      <td>-0.087905</td>\n",
       "    </tr>\n",
       "    <tr>\n",
       "      <th>CholCheck</th>\n",
       "      <td>0.064761</td>\n",
       "      <td>0.098508</td>\n",
       "      <td>0.085642</td>\n",
       "      <td>1.000000</td>\n",
       "      <td>0.040285</td>\n",
       "      <td>-0.009929</td>\n",
       "      <td>0.024158</td>\n",
       "      <td>0.044206</td>\n",
       "      <td>0.004190</td>\n",
       "      <td>0.023849</td>\n",
       "      <td>...</td>\n",
       "      <td>0.117626</td>\n",
       "      <td>-0.058255</td>\n",
       "      <td>0.046351</td>\n",
       "      <td>-0.013270</td>\n",
       "      <td>0.030475</td>\n",
       "      <td>0.040585</td>\n",
       "      <td>-0.022115</td>\n",
       "      <td>0.093533</td>\n",
       "      <td>0.003870</td>\n",
       "      <td>0.015263</td>\n",
       "    </tr>\n",
       "    <tr>\n",
       "      <th>BMI</th>\n",
       "      <td>0.226314</td>\n",
       "      <td>0.243756</td>\n",
       "      <td>0.136298</td>\n",
       "      <td>0.040285</td>\n",
       "      <td>1.000000</td>\n",
       "      <td>0.023089</td>\n",
       "      <td>0.022428</td>\n",
       "      <td>0.063659</td>\n",
       "      <td>-0.144611</td>\n",
       "      <td>-0.096067</td>\n",
       "      <td>...</td>\n",
       "      <td>-0.013761</td>\n",
       "      <td>0.052151</td>\n",
       "      <td>0.257342</td>\n",
       "      <td>0.053936</td>\n",
       "      <td>0.116096</td>\n",
       "      <td>0.179543</td>\n",
       "      <td>0.089349</td>\n",
       "      <td>-0.024591</td>\n",
       "      <td>-0.123277</td>\n",
       "      <td>-0.092192</td>\n",
       "    </tr>\n",
       "    <tr>\n",
       "      <th>Smoker</th>\n",
       "      <td>0.060789</td>\n",
       "      <td>0.096991</td>\n",
       "      <td>0.091299</td>\n",
       "      <td>-0.009929</td>\n",
       "      <td>0.023089</td>\n",
       "      <td>1.000000</td>\n",
       "      <td>0.061173</td>\n",
       "      <td>0.114441</td>\n",
       "      <td>-0.087401</td>\n",
       "      <td>-0.077666</td>\n",
       "      <td>...</td>\n",
       "      <td>-0.023251</td>\n",
       "      <td>0.048946</td>\n",
       "      <td>0.159009</td>\n",
       "      <td>0.060940</td>\n",
       "      <td>0.093197</td>\n",
       "      <td>0.122463</td>\n",
       "      <td>0.093662</td>\n",
       "      <td>0.119304</td>\n",
       "      <td>-0.173566</td>\n",
       "      <td>-0.132663</td>\n",
       "    </tr>\n",
       "    <tr>\n",
       "      <th>Stroke</th>\n",
       "      <td>0.105816</td>\n",
       "      <td>0.129575</td>\n",
       "      <td>0.092620</td>\n",
       "      <td>0.024158</td>\n",
       "      <td>0.022428</td>\n",
       "      <td>0.061173</td>\n",
       "      <td>1.000000</td>\n",
       "      <td>0.203002</td>\n",
       "      <td>-0.069151</td>\n",
       "      <td>-0.013389</td>\n",
       "      <td>...</td>\n",
       "      <td>0.008776</td>\n",
       "      <td>0.034804</td>\n",
       "      <td>0.163685</td>\n",
       "      <td>0.049819</td>\n",
       "      <td>0.127681</td>\n",
       "      <td>0.176567</td>\n",
       "      <td>0.002978</td>\n",
       "      <td>0.129060</td>\n",
       "      <td>-0.072970</td>\n",
       "      <td>-0.123728</td>\n",
       "    </tr>\n",
       "    <tr>\n",
       "      <th>HeartDiseaseorAttack</th>\n",
       "      <td>0.177282</td>\n",
       "      <td>0.209361</td>\n",
       "      <td>0.180765</td>\n",
       "      <td>0.044206</td>\n",
       "      <td>0.063659</td>\n",
       "      <td>0.114441</td>\n",
       "      <td>0.203002</td>\n",
       "      <td>1.000000</td>\n",
       "      <td>-0.087299</td>\n",
       "      <td>-0.019790</td>\n",
       "      <td>...</td>\n",
       "      <td>0.018734</td>\n",
       "      <td>0.031000</td>\n",
       "      <td>0.242243</td>\n",
       "      <td>0.034763</td>\n",
       "      <td>0.156630</td>\n",
       "      <td>0.212709</td>\n",
       "      <td>0.086096</td>\n",
       "      <td>0.227639</td>\n",
       "      <td>-0.095910</td>\n",
       "      <td>-0.141485</td>\n",
       "    </tr>\n",
       "    <tr>\n",
       "      <th>PhysActivity</th>\n",
       "      <td>-0.118133</td>\n",
       "      <td>-0.125267</td>\n",
       "      <td>-0.078046</td>\n",
       "      <td>0.004190</td>\n",
       "      <td>-0.144611</td>\n",
       "      <td>-0.087401</td>\n",
       "      <td>-0.069151</td>\n",
       "      <td>-0.087299</td>\n",
       "      <td>1.000000</td>\n",
       "      <td>0.142756</td>\n",
       "      <td>...</td>\n",
       "      <td>0.035505</td>\n",
       "      <td>-0.061638</td>\n",
       "      <td>-0.256241</td>\n",
       "      <td>-0.082526</td>\n",
       "      <td>-0.179494</td>\n",
       "      <td>-0.253174</td>\n",
       "      <td>0.032482</td>\n",
       "      <td>-0.088049</td>\n",
       "      <td>0.200248</td>\n",
       "      <td>0.202022</td>\n",
       "    </tr>\n",
       "    <tr>\n",
       "      <th>Fruits</th>\n",
       "      <td>-0.040779</td>\n",
       "      <td>-0.040555</td>\n",
       "      <td>-0.040859</td>\n",
       "      <td>0.023849</td>\n",
       "      <td>-0.096067</td>\n",
       "      <td>-0.077666</td>\n",
       "      <td>-0.013389</td>\n",
       "      <td>-0.019790</td>\n",
       "      <td>0.142756</td>\n",
       "      <td>1.000000</td>\n",
       "      <td>...</td>\n",
       "      <td>0.031544</td>\n",
       "      <td>-0.044243</td>\n",
       "      <td>-0.105474</td>\n",
       "      <td>-0.064153</td>\n",
       "      <td>-0.045278</td>\n",
       "      <td>-0.048352</td>\n",
       "      <td>-0.091175</td>\n",
       "      <td>0.066934</td>\n",
       "      <td>0.114929</td>\n",
       "      <td>0.076415</td>\n",
       "    </tr>\n",
       "    <tr>\n",
       "      <th>Veggies</th>\n",
       "      <td>-0.056584</td>\n",
       "      <td>-0.061266</td>\n",
       "      <td>-0.039874</td>\n",
       "      <td>0.006121</td>\n",
       "      <td>-0.068040</td>\n",
       "      <td>-0.030678</td>\n",
       "      <td>-0.041124</td>\n",
       "      <td>-0.039167</td>\n",
       "      <td>0.153150</td>\n",
       "      <td>0.254342</td>\n",
       "      <td>...</td>\n",
       "      <td>0.029584</td>\n",
       "      <td>-0.032232</td>\n",
       "      <td>-0.122540</td>\n",
       "      <td>-0.042357</td>\n",
       "      <td>-0.053943</td>\n",
       "      <td>-0.080506</td>\n",
       "      <td>-0.064765</td>\n",
       "      <td>-0.011223</td>\n",
       "      <td>0.154635</td>\n",
       "      <td>0.149364</td>\n",
       "    </tr>\n",
       "    <tr>\n",
       "      <th>HvyAlcoholConsump</th>\n",
       "      <td>-0.057056</td>\n",
       "      <td>-0.003972</td>\n",
       "      <td>-0.011543</td>\n",
       "      <td>-0.023730</td>\n",
       "      <td>-0.052448</td>\n",
       "      <td>0.101619</td>\n",
       "      <td>-0.016950</td>\n",
       "      <td>-0.028991</td>\n",
       "      <td>0.012392</td>\n",
       "      <td>-0.035288</td>\n",
       "      <td>...</td>\n",
       "      <td>-0.010488</td>\n",
       "      <td>0.004684</td>\n",
       "      <td>-0.035226</td>\n",
       "      <td>0.032742</td>\n",
       "      <td>-0.024763</td>\n",
       "      <td>-0.037668</td>\n",
       "      <td>0.005740</td>\n",
       "      <td>-0.035130</td>\n",
       "      <td>0.021252</td>\n",
       "      <td>0.055342</td>\n",
       "    </tr>\n",
       "    <tr>\n",
       "      <th>AnyHealthcare</th>\n",
       "      <td>0.016255</td>\n",
       "      <td>0.038425</td>\n",
       "      <td>0.042230</td>\n",
       "      <td>0.117626</td>\n",
       "      <td>-0.013761</td>\n",
       "      <td>-0.023251</td>\n",
       "      <td>0.008776</td>\n",
       "      <td>0.018734</td>\n",
       "      <td>0.035505</td>\n",
       "      <td>0.031544</td>\n",
       "      <td>...</td>\n",
       "      <td>1.000000</td>\n",
       "      <td>-0.232532</td>\n",
       "      <td>-0.041622</td>\n",
       "      <td>-0.047646</td>\n",
       "      <td>-0.008408</td>\n",
       "      <td>0.007074</td>\n",
       "      <td>-0.019405</td>\n",
       "      <td>0.140243</td>\n",
       "      <td>0.114853</td>\n",
       "      <td>0.155042</td>\n",
       "    </tr>\n",
       "    <tr>\n",
       "      <th>NoDocbcCost</th>\n",
       "      <td>0.031433</td>\n",
       "      <td>0.017358</td>\n",
       "      <td>0.013310</td>\n",
       "      <td>-0.058255</td>\n",
       "      <td>0.052151</td>\n",
       "      <td>0.048946</td>\n",
       "      <td>0.034804</td>\n",
       "      <td>0.031000</td>\n",
       "      <td>-0.061638</td>\n",
       "      <td>-0.044243</td>\n",
       "      <td>...</td>\n",
       "      <td>-0.232532</td>\n",
       "      <td>1.000000</td>\n",
       "      <td>0.157561</td>\n",
       "      <td>0.181869</td>\n",
       "      <td>0.154802</td>\n",
       "      <td>0.118447</td>\n",
       "      <td>-0.044931</td>\n",
       "      <td>-0.126066</td>\n",
       "      <td>-0.097922</td>\n",
       "      <td>-0.196734</td>\n",
       "    </tr>\n",
       "    <tr>\n",
       "      <th>GenHlth</th>\n",
       "      <td>0.287697</td>\n",
       "      <td>0.303300</td>\n",
       "      <td>0.208640</td>\n",
       "      <td>0.046351</td>\n",
       "      <td>0.257342</td>\n",
       "      <td>0.159009</td>\n",
       "      <td>0.163685</td>\n",
       "      <td>0.242243</td>\n",
       "      <td>-0.256241</td>\n",
       "      <td>-0.105474</td>\n",
       "      <td>...</td>\n",
       "      <td>-0.041622</td>\n",
       "      <td>0.157561</td>\n",
       "      <td>1.000000</td>\n",
       "      <td>0.237940</td>\n",
       "      <td>0.451847</td>\n",
       "      <td>0.422791</td>\n",
       "      <td>-0.003536</td>\n",
       "      <td>0.147188</td>\n",
       "      <td>-0.275783</td>\n",
       "      <td>-0.354253</td>\n",
       "    </tr>\n",
       "    <tr>\n",
       "      <th>MentHlth</th>\n",
       "      <td>0.040049</td>\n",
       "      <td>0.020499</td>\n",
       "      <td>0.044060</td>\n",
       "      <td>-0.013270</td>\n",
       "      <td>0.053936</td>\n",
       "      <td>0.060940</td>\n",
       "      <td>0.049819</td>\n",
       "      <td>0.034763</td>\n",
       "      <td>-0.082526</td>\n",
       "      <td>-0.064153</td>\n",
       "      <td>...</td>\n",
       "      <td>-0.047646</td>\n",
       "      <td>0.181869</td>\n",
       "      <td>0.237940</td>\n",
       "      <td>1.000000</td>\n",
       "      <td>0.308050</td>\n",
       "      <td>0.188262</td>\n",
       "      <td>-0.119509</td>\n",
       "      <td>-0.163580</td>\n",
       "      <td>-0.053912</td>\n",
       "      <td>-0.145222</td>\n",
       "    </tr>\n",
       "    <tr>\n",
       "      <th>PhysHlth</th>\n",
       "      <td>0.156752</td>\n",
       "      <td>0.149550</td>\n",
       "      <td>0.119331</td>\n",
       "      <td>0.030475</td>\n",
       "      <td>0.116096</td>\n",
       "      <td>0.093197</td>\n",
       "      <td>0.127681</td>\n",
       "      <td>0.156630</td>\n",
       "      <td>-0.179494</td>\n",
       "      <td>-0.045278</td>\n",
       "      <td>...</td>\n",
       "      <td>-0.008408</td>\n",
       "      <td>0.154802</td>\n",
       "      <td>0.451847</td>\n",
       "      <td>0.308050</td>\n",
       "      <td>1.000000</td>\n",
       "      <td>0.415022</td>\n",
       "      <td>-0.067635</td>\n",
       "      <td>0.052003</td>\n",
       "      <td>-0.114770</td>\n",
       "      <td>-0.218040</td>\n",
       "    </tr>\n",
       "    <tr>\n",
       "      <th>DiffWalk</th>\n",
       "      <td>0.218344</td>\n",
       "      <td>0.223618</td>\n",
       "      <td>0.144672</td>\n",
       "      <td>0.040585</td>\n",
       "      <td>0.179543</td>\n",
       "      <td>0.122463</td>\n",
       "      <td>0.176567</td>\n",
       "      <td>0.212709</td>\n",
       "      <td>-0.253174</td>\n",
       "      <td>-0.048352</td>\n",
       "      <td>...</td>\n",
       "      <td>0.007074</td>\n",
       "      <td>0.118447</td>\n",
       "      <td>0.422791</td>\n",
       "      <td>0.188262</td>\n",
       "      <td>0.415022</td>\n",
       "      <td>1.000000</td>\n",
       "      <td>-0.070299</td>\n",
       "      <td>0.201122</td>\n",
       "      <td>-0.187553</td>\n",
       "      <td>-0.303711</td>\n",
       "    </tr>\n",
       "    <tr>\n",
       "      <th>Sex</th>\n",
       "      <td>0.031430</td>\n",
       "      <td>0.052207</td>\n",
       "      <td>0.031205</td>\n",
       "      <td>-0.022115</td>\n",
       "      <td>0.089349</td>\n",
       "      <td>0.093662</td>\n",
       "      <td>0.002978</td>\n",
       "      <td>0.086096</td>\n",
       "      <td>0.032482</td>\n",
       "      <td>-0.091175</td>\n",
       "      <td>...</td>\n",
       "      <td>-0.019405</td>\n",
       "      <td>-0.044931</td>\n",
       "      <td>-0.003536</td>\n",
       "      <td>-0.119509</td>\n",
       "      <td>-0.067635</td>\n",
       "      <td>-0.070299</td>\n",
       "      <td>1.000000</td>\n",
       "      <td>-0.024217</td>\n",
       "      <td>0.024210</td>\n",
       "      <td>0.127009</td>\n",
       "    </tr>\n",
       "    <tr>\n",
       "      <th>Age</th>\n",
       "      <td>0.177684</td>\n",
       "      <td>0.344535</td>\n",
       "      <td>0.266355</td>\n",
       "      <td>0.093533</td>\n",
       "      <td>-0.024591</td>\n",
       "      <td>0.119304</td>\n",
       "      <td>0.129060</td>\n",
       "      <td>0.227639</td>\n",
       "      <td>-0.088049</td>\n",
       "      <td>0.066934</td>\n",
       "      <td>...</td>\n",
       "      <td>0.140243</td>\n",
       "      <td>-0.126066</td>\n",
       "      <td>0.147188</td>\n",
       "      <td>-0.163580</td>\n",
       "      <td>0.052003</td>\n",
       "      <td>0.201122</td>\n",
       "      <td>-0.024217</td>\n",
       "      <td>1.000000</td>\n",
       "      <td>-0.101489</td>\n",
       "      <td>-0.176457</td>\n",
       "    </tr>\n",
       "    <tr>\n",
       "      <th>Education</th>\n",
       "      <td>-0.120038</td>\n",
       "      <td>-0.141970</td>\n",
       "      <td>-0.068850</td>\n",
       "      <td>0.003870</td>\n",
       "      <td>-0.123277</td>\n",
       "      <td>-0.173566</td>\n",
       "      <td>-0.072970</td>\n",
       "      <td>-0.095910</td>\n",
       "      <td>0.200248</td>\n",
       "      <td>0.114929</td>\n",
       "      <td>...</td>\n",
       "      <td>0.114853</td>\n",
       "      <td>-0.097922</td>\n",
       "      <td>-0.275783</td>\n",
       "      <td>-0.053912</td>\n",
       "      <td>-0.114770</td>\n",
       "      <td>-0.187553</td>\n",
       "      <td>0.024210</td>\n",
       "      <td>-0.101489</td>\n",
       "      <td>1.000000</td>\n",
       "      <td>0.451978</td>\n",
       "    </tr>\n",
       "    <tr>\n",
       "      <th>Income</th>\n",
       "      <td>-0.163305</td>\n",
       "      <td>-0.179161</td>\n",
       "      <td>-0.087905</td>\n",
       "      <td>0.015263</td>\n",
       "      <td>-0.092192</td>\n",
       "      <td>-0.132663</td>\n",
       "      <td>-0.123728</td>\n",
       "      <td>-0.141485</td>\n",
       "      <td>0.202022</td>\n",
       "      <td>0.076415</td>\n",
       "      <td>...</td>\n",
       "      <td>0.155042</td>\n",
       "      <td>-0.196734</td>\n",
       "      <td>-0.354253</td>\n",
       "      <td>-0.145222</td>\n",
       "      <td>-0.218040</td>\n",
       "      <td>-0.303711</td>\n",
       "      <td>0.127009</td>\n",
       "      <td>-0.176457</td>\n",
       "      <td>0.451978</td>\n",
       "      <td>1.000000</td>\n",
       "    </tr>\n",
       "  </tbody>\n",
       "</table>\n",
       "<p>22 rows × 22 columns</p>\n",
       "</div>"
      ],
      "text/plain": [
       "                      Diabetes_binary    HighBP  HighChol  CholCheck  \\\n",
       "Diabetes_binary              1.000000  0.263129  0.200276   0.064761   \n",
       "HighBP                       0.263129  1.000000  0.298199   0.098508   \n",
       "HighChol                     0.200276  0.298199  1.000000   0.085642   \n",
       "CholCheck                    0.064761  0.098508  0.085642   1.000000   \n",
       "BMI                          0.226314  0.243756  0.136298   0.040285   \n",
       "Smoker                       0.060789  0.096991  0.091299  -0.009929   \n",
       "Stroke                       0.105816  0.129575  0.092620   0.024158   \n",
       "HeartDiseaseorAttack         0.177282  0.209361  0.180765   0.044206   \n",
       "PhysActivity                -0.118133 -0.125267 -0.078046   0.004190   \n",
       "Fruits                      -0.040779 -0.040555 -0.040859   0.023849   \n",
       "Veggies                     -0.056584 -0.061266 -0.039874   0.006121   \n",
       "HvyAlcoholConsump           -0.057056 -0.003972 -0.011543  -0.023730   \n",
       "AnyHealthcare                0.016255  0.038425  0.042230   0.117626   \n",
       "NoDocbcCost                  0.031433  0.017358  0.013310  -0.058255   \n",
       "GenHlth                      0.287697  0.303300  0.208640   0.046351   \n",
       "MentHlth                     0.040049  0.020499  0.044060  -0.013270   \n",
       "PhysHlth                     0.156752  0.149550  0.119331   0.030475   \n",
       "DiffWalk                     0.218344  0.223618  0.144672   0.040585   \n",
       "Sex                          0.031430  0.052207  0.031205  -0.022115   \n",
       "Age                          0.177684  0.344535  0.266355   0.093533   \n",
       "Education                   -0.120038 -0.141970 -0.068850   0.003870   \n",
       "Income                      -0.163305 -0.179161 -0.087905   0.015263   \n",
       "\n",
       "                           BMI    Smoker    Stroke  HeartDiseaseorAttack  \\\n",
       "Diabetes_binary       0.226314  0.060789  0.105816              0.177282   \n",
       "HighBP                0.243756  0.096991  0.129575              0.209361   \n",
       "HighChol              0.136298  0.091299  0.092620              0.180765   \n",
       "CholCheck             0.040285 -0.009929  0.024158              0.044206   \n",
       "BMI                   1.000000  0.023089  0.022428              0.063659   \n",
       "Smoker                0.023089  1.000000  0.061173              0.114441   \n",
       "Stroke                0.022428  0.061173  1.000000              0.203002   \n",
       "HeartDiseaseorAttack  0.063659  0.114441  0.203002              1.000000   \n",
       "PhysActivity         -0.144611 -0.087401 -0.069151             -0.087299   \n",
       "Fruits               -0.096067 -0.077666 -0.013389             -0.019790   \n",
       "Veggies              -0.068040 -0.030678 -0.041124             -0.039167   \n",
       "HvyAlcoholConsump    -0.052448  0.101619 -0.016950             -0.028991   \n",
       "AnyHealthcare        -0.013761 -0.023251  0.008776              0.018734   \n",
       "NoDocbcCost           0.052151  0.048946  0.034804              0.031000   \n",
       "GenHlth               0.257342  0.159009  0.163685              0.242243   \n",
       "MentHlth              0.053936  0.060940  0.049819              0.034763   \n",
       "PhysHlth              0.116096  0.093197  0.127681              0.156630   \n",
       "DiffWalk              0.179543  0.122463  0.176567              0.212709   \n",
       "Sex                   0.089349  0.093662  0.002978              0.086096   \n",
       "Age                  -0.024591  0.119304  0.129060              0.227639   \n",
       "Education            -0.123277 -0.173566 -0.072970             -0.095910   \n",
       "Income               -0.092192 -0.132663 -0.123728             -0.141485   \n",
       "\n",
       "                      PhysActivity    Fruits  ...  AnyHealthcare  NoDocbcCost  \\\n",
       "Diabetes_binary          -0.118133 -0.040779  ...       0.016255     0.031433   \n",
       "HighBP                   -0.125267 -0.040555  ...       0.038425     0.017358   \n",
       "HighChol                 -0.078046 -0.040859  ...       0.042230     0.013310   \n",
       "CholCheck                 0.004190  0.023849  ...       0.117626    -0.058255   \n",
       "BMI                      -0.144611 -0.096067  ...      -0.013761     0.052151   \n",
       "Smoker                   -0.087401 -0.077666  ...      -0.023251     0.048946   \n",
       "Stroke                   -0.069151 -0.013389  ...       0.008776     0.034804   \n",
       "HeartDiseaseorAttack     -0.087299 -0.019790  ...       0.018734     0.031000   \n",
       "PhysActivity              1.000000  0.142756  ...       0.035505    -0.061638   \n",
       "Fruits                    0.142756  1.000000  ...       0.031544    -0.044243   \n",
       "Veggies                   0.153150  0.254342  ...       0.029584    -0.032232   \n",
       "HvyAlcoholConsump         0.012392 -0.035288  ...      -0.010488     0.004684   \n",
       "AnyHealthcare             0.035505  0.031544  ...       1.000000    -0.232532   \n",
       "NoDocbcCost              -0.061638 -0.044243  ...      -0.232532     1.000000   \n",
       "GenHlth                  -0.256241 -0.105474  ...      -0.041622     0.157561   \n",
       "MentHlth                 -0.082526 -0.064153  ...      -0.047646     0.181869   \n",
       "PhysHlth                 -0.179494 -0.045278  ...      -0.008408     0.154802   \n",
       "DiffWalk                 -0.253174 -0.048352  ...       0.007074     0.118447   \n",
       "Sex                       0.032482 -0.091175  ...      -0.019405    -0.044931   \n",
       "Age                      -0.088049  0.066934  ...       0.140243    -0.126066   \n",
       "Education                 0.200248  0.114929  ...       0.114853    -0.097922   \n",
       "Income                    0.202022  0.076415  ...       0.155042    -0.196734   \n",
       "\n",
       "                       GenHlth  MentHlth  PhysHlth  DiffWalk       Sex  \\\n",
       "Diabetes_binary       0.287697  0.040049  0.156752  0.218344  0.031430   \n",
       "HighBP                0.303300  0.020499  0.149550  0.223618  0.052207   \n",
       "HighChol              0.208640  0.044060  0.119331  0.144672  0.031205   \n",
       "CholCheck             0.046351 -0.013270  0.030475  0.040585 -0.022115   \n",
       "BMI                   0.257342  0.053936  0.116096  0.179543  0.089349   \n",
       "Smoker                0.159009  0.060940  0.093197  0.122463  0.093662   \n",
       "Stroke                0.163685  0.049819  0.127681  0.176567  0.002978   \n",
       "HeartDiseaseorAttack  0.242243  0.034763  0.156630  0.212709  0.086096   \n",
       "PhysActivity         -0.256241 -0.082526 -0.179494 -0.253174  0.032482   \n",
       "Fruits               -0.105474 -0.064153 -0.045278 -0.048352 -0.091175   \n",
       "Veggies              -0.122540 -0.042357 -0.053943 -0.080506 -0.064765   \n",
       "HvyAlcoholConsump    -0.035226  0.032742 -0.024763 -0.037668  0.005740   \n",
       "AnyHealthcare        -0.041622 -0.047646 -0.008408  0.007074 -0.019405   \n",
       "NoDocbcCost           0.157561  0.181869  0.154802  0.118447 -0.044931   \n",
       "GenHlth               1.000000  0.237940  0.451847  0.422791 -0.003536   \n",
       "MentHlth              0.237940  1.000000  0.308050  0.188262 -0.119509   \n",
       "PhysHlth              0.451847  0.308050  1.000000  0.415022 -0.067635   \n",
       "DiffWalk              0.422791  0.188262  0.415022  1.000000 -0.070299   \n",
       "Sex                  -0.003536 -0.119509 -0.067635 -0.070299  1.000000   \n",
       "Age                   0.147188 -0.163580  0.052003  0.201122 -0.024217   \n",
       "Education            -0.275783 -0.053912 -0.114770 -0.187553  0.024210   \n",
       "Income               -0.354253 -0.145222 -0.218040 -0.303711  0.127009   \n",
       "\n",
       "                           Age  Education    Income  \n",
       "Diabetes_binary       0.177684  -0.120038 -0.163305  \n",
       "HighBP                0.344535  -0.141970 -0.179161  \n",
       "HighChol              0.266355  -0.068850 -0.087905  \n",
       "CholCheck             0.093533   0.003870  0.015263  \n",
       "BMI                  -0.024591  -0.123277 -0.092192  \n",
       "Smoker                0.119304  -0.173566 -0.132663  \n",
       "Stroke                0.129060  -0.072970 -0.123728  \n",
       "HeartDiseaseorAttack  0.227639  -0.095910 -0.141485  \n",
       "PhysActivity         -0.088049   0.200248  0.202022  \n",
       "Fruits                0.066934   0.114929  0.076415  \n",
       "Veggies              -0.011223   0.154635  0.149364  \n",
       "HvyAlcoholConsump    -0.035130   0.021252  0.055342  \n",
       "AnyHealthcare         0.140243   0.114853  0.155042  \n",
       "NoDocbcCost          -0.126066  -0.097922 -0.196734  \n",
       "GenHlth               0.147188  -0.275783 -0.354253  \n",
       "MentHlth             -0.163580  -0.053912 -0.145222  \n",
       "PhysHlth              0.052003  -0.114770 -0.218040  \n",
       "DiffWalk              0.201122  -0.187553 -0.303711  \n",
       "Sex                  -0.024217   0.024210  0.127009  \n",
       "Age                   1.000000  -0.101489 -0.176457  \n",
       "Education            -0.101489   1.000000  0.451978  \n",
       "Income               -0.176457   0.451978  1.000000  \n",
       "\n",
       "[22 rows x 22 columns]"
      ]
     },
     "execution_count": 241,
     "metadata": {},
     "output_type": "execute_result"
    }
   ],
   "source": [
    "#Create a correlation matrix of diabetes and other \n",
    "spearman_corr_matrix = data.corr(method='spearman')\n",
    "spearman_corr_matrix "
   ]
  },
  {
   "cell_type": "code",
   "execution_count": 242,
   "id": "26364866",
   "metadata": {},
   "outputs": [
    {
     "data": {
      "image/png": "[encoded data removed]",
      "text/plain": [
       "<Figure size 2000x2000 with 2 Axes>"
      ]
     },
     "metadata": {},
     "output_type": "display_data"
    }
   ],
   "source": [
    "#Create a heatmap using seaborn library to better visualize the correlation\n",
    "plt.figure(figsize=(20, 20))\n",
    "sns.heatmap(spearman_corr_matrix, annot=True, cmap='magma', fmt=\".2f\", linewidths=.5)\n",
    "plt.title('Spearman Correlation Heatmap')\n",
    "plt.show()"
   ]
  },
  {
   "cell_type": "markdown",
   "id": "e8e0b7af",
   "metadata": {},
   "source": [
    "### Correlation Matrix and Heatmap of Diabetes and Other Health Conditions\n",
    "To visualize the correlation of diabetes and other health conditions such as high blood pressure, high cholesterol, stroke, heart disease and BMI we can create a smaller correlation matrix and heatmap."
   ]
  },
  {
   "cell_type": "code",
   "execution_count": 243,
   "id": "44e5cfda",
   "metadata": {},
   "outputs": [
    {
     "data": {
      "text/html": [
       "<div>\n",
       "<style scoped>\n",
       "    .dataframe tbody tr th:only-of-type {\n",
       "        vertical-align: middle;\n",
       "    }\n",
       "\n",
       "    .dataframe tbody tr th {\n",
       "        vertical-align: top;\n",
       "    }\n",
       "\n",
       "    .dataframe thead th {\n",
       "        text-align: right;\n",
       "    }\n",
       "</style>\n",
       "<table border=\"1\" class=\"dataframe\">\n",
       "  <thead>\n",
       "    <tr style=\"text-align: right;\">\n",
       "      <th></th>\n",
       "      <th>Diabetes_binary</th>\n",
       "      <th>HighBP</th>\n",
       "      <th>HighChol</th>\n",
       "      <th>Stroke</th>\n",
       "      <th>HeartDiseaseorAttack</th>\n",
       "      <th>BMI</th>\n",
       "    </tr>\n",
       "  </thead>\n",
       "  <tbody>\n",
       "    <tr>\n",
       "      <th>Diabetes_binary</th>\n",
       "      <td>1.000000</td>\n",
       "      <td>0.263129</td>\n",
       "      <td>0.200276</td>\n",
       "      <td>0.105816</td>\n",
       "      <td>0.177282</td>\n",
       "      <td>0.226314</td>\n",
       "    </tr>\n",
       "    <tr>\n",
       "      <th>HighBP</th>\n",
       "      <td>0.263129</td>\n",
       "      <td>1.000000</td>\n",
       "      <td>0.298199</td>\n",
       "      <td>0.129575</td>\n",
       "      <td>0.209361</td>\n",
       "      <td>0.243756</td>\n",
       "    </tr>\n",
       "    <tr>\n",
       "      <th>HighChol</th>\n",
       "      <td>0.200276</td>\n",
       "      <td>0.298199</td>\n",
       "      <td>1.000000</td>\n",
       "      <td>0.092620</td>\n",
       "      <td>0.180765</td>\n",
       "      <td>0.136298</td>\n",
       "    </tr>\n",
       "    <tr>\n",
       "      <th>Stroke</th>\n",
       "      <td>0.105816</td>\n",
       "      <td>0.129575</td>\n",
       "      <td>0.092620</td>\n",
       "      <td>1.000000</td>\n",
       "      <td>0.203002</td>\n",
       "      <td>0.022428</td>\n",
       "    </tr>\n",
       "    <tr>\n",
       "      <th>HeartDiseaseorAttack</th>\n",
       "      <td>0.177282</td>\n",
       "      <td>0.209361</td>\n",
       "      <td>0.180765</td>\n",
       "      <td>0.203002</td>\n",
       "      <td>1.000000</td>\n",
       "      <td>0.063659</td>\n",
       "    </tr>\n",
       "    <tr>\n",
       "      <th>BMI</th>\n",
       "      <td>0.226314</td>\n",
       "      <td>0.243756</td>\n",
       "      <td>0.136298</td>\n",
       "      <td>0.022428</td>\n",
       "      <td>0.063659</td>\n",
       "      <td>1.000000</td>\n",
       "    </tr>\n",
       "  </tbody>\n",
       "</table>\n",
       "</div>"
      ],
      "text/plain": [
       "                      Diabetes_binary    HighBP  HighChol    Stroke  \\\n",
       "Diabetes_binary              1.000000  0.263129  0.200276  0.105816   \n",
       "HighBP                       0.263129  1.000000  0.298199  0.129575   \n",
       "HighChol                     0.200276  0.298199  1.000000  0.092620   \n",
       "Stroke                       0.105816  0.129575  0.092620  1.000000   \n",
       "HeartDiseaseorAttack         0.177282  0.209361  0.180765  0.203002   \n",
       "BMI                          0.226314  0.243756  0.136298  0.022428   \n",
       "\n",
       "                      HeartDiseaseorAttack       BMI  \n",
       "Diabetes_binary                   0.177282  0.226314  \n",
       "HighBP                            0.209361  0.243756  \n",
       "HighChol                          0.180765  0.136298  \n",
       "Stroke                            0.203002  0.022428  \n",
       "HeartDiseaseorAttack              1.000000  0.063659  \n",
       "BMI                               0.063659  1.000000  "
      ]
     },
     "execution_count": 243,
     "metadata": {},
     "output_type": "execute_result"
    }
   ],
   "source": [
    "#Create a correlation matrix of diabetes and other \n",
    "health_conditions = data[['Diabetes_binary', 'HighBP', 'HighChol','Stroke','HeartDiseaseorAttack','BMI']]\n",
    "spearman_corr_matrix = health_conditions.corr(method='spearman')\n",
    "spearman_corr_matrix "
   ]
  },
  {
   "cell_type": "code",
   "execution_count": 244,
   "id": "da7d4c92",
   "metadata": {},
   "outputs": [
    {
     "data": {
      "image/png": "[encoded data removed]",
      "text/plain": [
       "<Figure size 500x500 with 2 Axes>"
      ]
     },
     "metadata": {},
     "output_type": "display_data"
    }
   ],
   "source": [
    "#Create a heatmap using seaborn library to better visualize the correlatio\n",
    "plt.figure(figsize=(5, 5))\n",
    "sns.heatmap(spearman_corr_matrix, annot=True, cmap='magma', fmt=\".2f\", linewidths=.5)\n",
    "plt.title('Spearman Correlation Heatmap')\n",
    "plt.show()"
   ]
  },
  {
   "cell_type": "markdown",
   "id": "dec7d645",
   "metadata": {},
   "source": [
    "### Bar Graph of Diabetes Occurence in Indivuduals with other Health Conditions\n",
    "Bar graph is another great way of visualizing the relationship between two variables. By displaying percent occurence of diabetes in individuals with other health conditions, we can better understand if there is a relationship between diabetes and these conditions."
   ]
  },
  {
   "cell_type": "code",
   "execution_count": 245,
   "id": "4a52b3e7",
   "metadata": {},
   "outputs": [
    {
     "data": {
      "image/png": "[encoded data removed]",
      "text/plain": [
       "<Figure size 1500x1200 with 4 Axes>"
      ]
     },
     "metadata": {},
     "output_type": "display_data"
    }
   ],
   "source": [
    "# Select the columns that contain variables like High Blood Pressure, High Cholesterol, Stroke and Heart Disease or Attack\n",
    "categorical_variables = ['HighBP', 'HighChol', 'Stroke', 'HeartDiseaseorAttack']\n",
    "\n",
    "# Set the plot size\n",
    "plt.figure(figsize=(15, 12))\n",
    "\n",
    "# Display plots for each selected variable\n",
    "for i, variable in enumerate(categorical_variables, 1):\n",
    "    plt.subplot(2, 2, i)\n",
    "    \n",
    "    # Calculate the probability of diabetes for each category\n",
    "    percentage_diabetes_occurence = data.groupby(variable)['Diabetes_binary'].mean().reset_index()\n",
    "    \n",
    "    # Create a bar plot displaying occurence of diabetes in individuals with various health conditions\n",
    "    sns.barplot(x=variable, y='Diabetes_binary', data=percentage_diabetes_occurence, palette='coolwarm')\n",
    "    plt.title(f'Percentage Occurence of Diabetes in individuals with {variable}')\n",
    "    plt.xlabel(variable)\n",
    "    plt.ylabel('Percentage Occurence of Diabetes')\n",
    "\n",
    "# Adjust layout for better visualization and show the plot\n",
    "plt.tight_layout()\n",
    "plt.show()"
   ]
  },
  {
   "cell_type": "markdown",
   "id": "069c9ec5",
   "metadata": {},
   "source": [
    "##### Interpretation of Bar Graphs Displaying Occurence of Diabetes in Individuals with and without Other Health Conditions\n",
    "<br>- Bar graphs in the above visualization display the occurrence of diabetes among individuals with other health conditions such as high blood pressure, high cholesterol, heart attack, and stroke and individuals without these conditions.<br>\n",
    "<br>- The height of bars in each bar graph represents the percentage of individuals with diabetes in each group. Occurence of diabetes is clearly higher in individuals diagnosed with other health conditions compared to individuals without any of these conditions.<br>\n",
    "<br>- The interpretation of the graphs implies that the presence of health conditions such as high blood pressure, high cholesterol, heart attack, and stroke may contribute to increased likelihood of having diabetes.\n"
   ]
  },
  {
   "cell_type": "markdown",
   "id": "20dfb267",
   "metadata": {},
   "source": [
    "### Histogram Displaying Probability of Diabetes Occurence in Individuals with Different BMIs\n",
    "\n",
    "Visualising the occurance of diabetes in individuals with different BMIs is another great way of understanding if there is a relationship between diabetes and BMI."
   ]
  },
  {
   "cell_type": "code",
   "execution_count": 246,
   "id": "b7176ba9",
   "metadata": {
    "scrolled": false
   },
   "outputs": [
    {
     "data": {
      "image/png": "[encoded data removed]",
      "text/plain": [
       "<Figure size 1800x1300 with 1 Axes>"
      ]
     },
     "metadata": {},
     "output_type": "display_data"
    }
   ],
   "source": [
    "categorical_variables = ['BMI']\n",
    "\n",
    "# Set the plot size\n",
    "plt.figure(figsize=(18, 13))\n",
    "\n",
    "# Display plots for each selected variable\n",
    "for i, variable in enumerate(categorical_variables, 1):\n",
    "    plt.subplot(1, 1, i)\n",
    "    \n",
    "    # Calculate the probability of diabetes for each category\n",
    "    diabetes_probability = data.groupby(variable)['Diabetes_binary'].mean().reset_index()\n",
    "    \n",
    "    # Create a bar plot using matplotlib\n",
    "    plt.bar(diabetes_probability[variable], diabetes_probability['Diabetes_binary'], width=0.8, color='skyblue')\n",
    "    \n",
    "\n",
    "    plt.title(f'Probability of Diabetes Occurance in Individuals with Different {variable}')\n",
    "    plt.xlabel(variable)\n",
    "    plt.ylabel('Probability of Diabetes Occurance')\n",
    "\n",
    "# Adjust layout for better visualization and show the plot\n",
    "plt.tight_layout()\n",
    "plt.show()"
   ]
  },
  {
   "cell_type": "markdown",
   "id": "4c4d5409",
   "metadata": {},
   "source": [
    "##### Interpretation of Histogram of Percent Diabetes Occurence at Different BMIs\n",
    "<br>- The histogram above provides insight to the relationship between the probability of having diabetes and various BMI values of individuals who have responded to the CDC's survey.<br>\n",
    "<br>- x-axis of the histogram displays various BMI's of individuals. As per CDC's website BMI ranges and interpretation of each range is as follow:<br>\n",
    "| BMI Range       | Category       |\n",
    "| --------------- | -------------- |\n",
    "| Below 18.5      | Underweight    |\n",
    "| 18.5 – 24.9     | Healthy Weight |\n",
    "| 25.0 – 29.9     | Overweight     |\n",
    "| 30.0 and Above | Obesity        |<br>\n",
    "\n",
    "<br>- Histogram clearly indicates that there is an increase in percentage of diabetes occurence as the individual's BMI increases.<br>\n",
    "<br>- For individuals who are in underweight category with BMI Range below 18.5, as BMI decreases the percent occurence of diabetes increases. This may be an indication of other underlying conditions that might need more investigation and analysis.<br>\n"
   ]
  },
  {
   "cell_type": "markdown",
   "id": "6e3e9018",
   "metadata": {},
   "source": [
    "### Performing Chi-Square Statistical Test to Understand the Relationship between BMI and Diabetes"
   ]
  },
  {
   "cell_type": "markdown",
   "id": "e39b19bc",
   "metadata": {},
   "source": [
    "Chi-square test is a statistical test that enables us to understand the relationship between the categorical variables of a dataset. By performing chi-square testing we can further analyze the relationship between various BMI categories such as Underweight, Healthy Weight, Over Weight, Obesity and occurence of diabetes in these individuals.<br>\n",
    "\n",
    "In order to perform hypotesis testing we need to define null and alternate hypothesis.<br>\n",
    "#### Null hypothesis: \n",
    "There is no significant association between diabetes occurrence and different BMI categories<br>\n",
    "#### Alternate hypothesis: \n",
    "There is a significant association between diabetes occurence and different BMI categories<br>\n",
    "<br> To start our testing, dataset needs to be split into two set: indivuduals who have diabetes and individuals who do not have diabetes.<br>\n",
    "<br> Once we have created these two datasets, we can further filter each dataset to categorize individuals based on their BMI and find out observed and expected values for each BMI category and diabetes condition."
   ]
  },
  {
   "cell_type": "code",
   "execution_count": 247,
   "id": "024b0688",
   "metadata": {},
   "outputs": [
    {
     "data": {
      "text/html": [
       "<div>\n",
       "<style scoped>\n",
       "    .dataframe tbody tr th:only-of-type {\n",
       "        vertical-align: middle;\n",
       "    }\n",
       "\n",
       "    .dataframe tbody tr th {\n",
       "        vertical-align: top;\n",
       "    }\n",
       "\n",
       "    .dataframe thead th {\n",
       "        text-align: right;\n",
       "    }\n",
       "</style>\n",
       "<table border=\"1\" class=\"dataframe\">\n",
       "  <thead>\n",
       "    <tr style=\"text-align: right;\">\n",
       "      <th></th>\n",
       "      <th>Diabetes_binary</th>\n",
       "      <th>HighBP</th>\n",
       "      <th>HighChol</th>\n",
       "      <th>CholCheck</th>\n",
       "      <th>BMI</th>\n",
       "      <th>Smoker</th>\n",
       "      <th>Stroke</th>\n",
       "      <th>HeartDiseaseorAttack</th>\n",
       "      <th>PhysActivity</th>\n",
       "      <th>Fruits</th>\n",
       "      <th>...</th>\n",
       "      <th>AnyHealthcare</th>\n",
       "      <th>NoDocbcCost</th>\n",
       "      <th>GenHlth</th>\n",
       "      <th>MentHlth</th>\n",
       "      <th>PhysHlth</th>\n",
       "      <th>DiffWalk</th>\n",
       "      <th>Sex</th>\n",
       "      <th>Age</th>\n",
       "      <th>Education</th>\n",
       "      <th>Income</th>\n",
       "    </tr>\n",
       "  </thead>\n",
       "  <tbody>\n",
       "    <tr>\n",
       "      <th>8</th>\n",
       "      <td>1.0</td>\n",
       "      <td>1.0</td>\n",
       "      <td>1.0</td>\n",
       "      <td>1.0</td>\n",
       "      <td>30.0</td>\n",
       "      <td>1.0</td>\n",
       "      <td>0.0</td>\n",
       "      <td>1.0</td>\n",
       "      <td>0.0</td>\n",
       "      <td>1.0</td>\n",
       "      <td>...</td>\n",
       "      <td>1.0</td>\n",
       "      <td>0.0</td>\n",
       "      <td>5.0</td>\n",
       "      <td>30.0</td>\n",
       "      <td>30.0</td>\n",
       "      <td>1.0</td>\n",
       "      <td>0.0</td>\n",
       "      <td>9.0</td>\n",
       "      <td>5.0</td>\n",
       "      <td>1.0</td>\n",
       "    </tr>\n",
       "    <tr>\n",
       "      <th>10</th>\n",
       "      <td>1.0</td>\n",
       "      <td>0.0</td>\n",
       "      <td>0.0</td>\n",
       "      <td>1.0</td>\n",
       "      <td>25.0</td>\n",
       "      <td>1.0</td>\n",
       "      <td>0.0</td>\n",
       "      <td>0.0</td>\n",
       "      <td>1.0</td>\n",
       "      <td>1.0</td>\n",
       "      <td>...</td>\n",
       "      <td>1.0</td>\n",
       "      <td>0.0</td>\n",
       "      <td>3.0</td>\n",
       "      <td>0.0</td>\n",
       "      <td>0.0</td>\n",
       "      <td>0.0</td>\n",
       "      <td>1.0</td>\n",
       "      <td>13.0</td>\n",
       "      <td>6.0</td>\n",
       "      <td>8.0</td>\n",
       "    </tr>\n",
       "    <tr>\n",
       "      <th>13</th>\n",
       "      <td>1.0</td>\n",
       "      <td>1.0</td>\n",
       "      <td>1.0</td>\n",
       "      <td>1.0</td>\n",
       "      <td>28.0</td>\n",
       "      <td>0.0</td>\n",
       "      <td>0.0</td>\n",
       "      <td>0.0</td>\n",
       "      <td>0.0</td>\n",
       "      <td>0.0</td>\n",
       "      <td>...</td>\n",
       "      <td>1.0</td>\n",
       "      <td>0.0</td>\n",
       "      <td>4.0</td>\n",
       "      <td>0.0</td>\n",
       "      <td>0.0</td>\n",
       "      <td>1.0</td>\n",
       "      <td>0.0</td>\n",
       "      <td>11.0</td>\n",
       "      <td>4.0</td>\n",
       "      <td>6.0</td>\n",
       "    </tr>\n",
       "    <tr>\n",
       "      <th>17</th>\n",
       "      <td>1.0</td>\n",
       "      <td>0.0</td>\n",
       "      <td>0.0</td>\n",
       "      <td>1.0</td>\n",
       "      <td>23.0</td>\n",
       "      <td>1.0</td>\n",
       "      <td>0.0</td>\n",
       "      <td>0.0</td>\n",
       "      <td>1.0</td>\n",
       "      <td>0.0</td>\n",
       "      <td>...</td>\n",
       "      <td>1.0</td>\n",
       "      <td>0.0</td>\n",
       "      <td>2.0</td>\n",
       "      <td>0.0</td>\n",
       "      <td>0.0</td>\n",
       "      <td>0.0</td>\n",
       "      <td>1.0</td>\n",
       "      <td>7.0</td>\n",
       "      <td>5.0</td>\n",
       "      <td>6.0</td>\n",
       "    </tr>\n",
       "    <tr>\n",
       "      <th>23</th>\n",
       "      <td>1.0</td>\n",
       "      <td>1.0</td>\n",
       "      <td>0.0</td>\n",
       "      <td>1.0</td>\n",
       "      <td>27.0</td>\n",
       "      <td>0.0</td>\n",
       "      <td>0.0</td>\n",
       "      <td>0.0</td>\n",
       "      <td>1.0</td>\n",
       "      <td>1.0</td>\n",
       "      <td>...</td>\n",
       "      <td>1.0</td>\n",
       "      <td>0.0</td>\n",
       "      <td>1.0</td>\n",
       "      <td>0.0</td>\n",
       "      <td>0.0</td>\n",
       "      <td>0.0</td>\n",
       "      <td>0.0</td>\n",
       "      <td>13.0</td>\n",
       "      <td>5.0</td>\n",
       "      <td>4.0</td>\n",
       "    </tr>\n",
       "    <tr>\n",
       "      <th>...</th>\n",
       "      <td>...</td>\n",
       "      <td>...</td>\n",
       "      <td>...</td>\n",
       "      <td>...</td>\n",
       "      <td>...</td>\n",
       "      <td>...</td>\n",
       "      <td>...</td>\n",
       "      <td>...</td>\n",
       "      <td>...</td>\n",
       "      <td>...</td>\n",
       "      <td>...</td>\n",
       "      <td>...</td>\n",
       "      <td>...</td>\n",
       "      <td>...</td>\n",
       "      <td>...</td>\n",
       "      <td>...</td>\n",
       "      <td>...</td>\n",
       "      <td>...</td>\n",
       "      <td>...</td>\n",
       "      <td>...</td>\n",
       "      <td>...</td>\n",
       "    </tr>\n",
       "    <tr>\n",
       "      <th>253659</th>\n",
       "      <td>1.0</td>\n",
       "      <td>0.0</td>\n",
       "      <td>1.0</td>\n",
       "      <td>1.0</td>\n",
       "      <td>37.0</td>\n",
       "      <td>0.0</td>\n",
       "      <td>0.0</td>\n",
       "      <td>0.0</td>\n",
       "      <td>0.0</td>\n",
       "      <td>0.0</td>\n",
       "      <td>...</td>\n",
       "      <td>1.0</td>\n",
       "      <td>0.0</td>\n",
       "      <td>4.0</td>\n",
       "      <td>0.0</td>\n",
       "      <td>0.0</td>\n",
       "      <td>0.0</td>\n",
       "      <td>0.0</td>\n",
       "      <td>6.0</td>\n",
       "      <td>4.0</td>\n",
       "      <td>1.0</td>\n",
       "    </tr>\n",
       "    <tr>\n",
       "      <th>253668</th>\n",
       "      <td>1.0</td>\n",
       "      <td>0.0</td>\n",
       "      <td>1.0</td>\n",
       "      <td>1.0</td>\n",
       "      <td>29.0</td>\n",
       "      <td>1.0</td>\n",
       "      <td>0.0</td>\n",
       "      <td>1.0</td>\n",
       "      <td>0.0</td>\n",
       "      <td>1.0</td>\n",
       "      <td>...</td>\n",
       "      <td>1.0</td>\n",
       "      <td>0.0</td>\n",
       "      <td>2.0</td>\n",
       "      <td>0.0</td>\n",
       "      <td>0.0</td>\n",
       "      <td>1.0</td>\n",
       "      <td>1.0</td>\n",
       "      <td>10.0</td>\n",
       "      <td>3.0</td>\n",
       "      <td>6.0</td>\n",
       "    </tr>\n",
       "    <tr>\n",
       "      <th>253670</th>\n",
       "      <td>1.0</td>\n",
       "      <td>1.0</td>\n",
       "      <td>1.0</td>\n",
       "      <td>1.0</td>\n",
       "      <td>25.0</td>\n",
       "      <td>0.0</td>\n",
       "      <td>0.0</td>\n",
       "      <td>1.0</td>\n",
       "      <td>0.0</td>\n",
       "      <td>1.0</td>\n",
       "      <td>...</td>\n",
       "      <td>1.0</td>\n",
       "      <td>0.0</td>\n",
       "      <td>5.0</td>\n",
       "      <td>15.0</td>\n",
       "      <td>0.0</td>\n",
       "      <td>1.0</td>\n",
       "      <td>0.0</td>\n",
       "      <td>13.0</td>\n",
       "      <td>6.0</td>\n",
       "      <td>4.0</td>\n",
       "    </tr>\n",
       "    <tr>\n",
       "      <th>253676</th>\n",
       "      <td>1.0</td>\n",
       "      <td>1.0</td>\n",
       "      <td>1.0</td>\n",
       "      <td>1.0</td>\n",
       "      <td>18.0</td>\n",
       "      <td>0.0</td>\n",
       "      <td>0.0</td>\n",
       "      <td>0.0</td>\n",
       "      <td>0.0</td>\n",
       "      <td>0.0</td>\n",
       "      <td>...</td>\n",
       "      <td>1.0</td>\n",
       "      <td>0.0</td>\n",
       "      <td>4.0</td>\n",
       "      <td>0.0</td>\n",
       "      <td>0.0</td>\n",
       "      <td>1.0</td>\n",
       "      <td>0.0</td>\n",
       "      <td>11.0</td>\n",
       "      <td>2.0</td>\n",
       "      <td>4.0</td>\n",
       "    </tr>\n",
       "    <tr>\n",
       "      <th>253679</th>\n",
       "      <td>1.0</td>\n",
       "      <td>1.0</td>\n",
       "      <td>1.0</td>\n",
       "      <td>1.0</td>\n",
       "      <td>25.0</td>\n",
       "      <td>0.0</td>\n",
       "      <td>0.0</td>\n",
       "      <td>1.0</td>\n",
       "      <td>1.0</td>\n",
       "      <td>1.0</td>\n",
       "      <td>...</td>\n",
       "      <td>1.0</td>\n",
       "      <td>0.0</td>\n",
       "      <td>2.0</td>\n",
       "      <td>0.0</td>\n",
       "      <td>0.0</td>\n",
       "      <td>0.0</td>\n",
       "      <td>0.0</td>\n",
       "      <td>9.0</td>\n",
       "      <td>6.0</td>\n",
       "      <td>2.0</td>\n",
       "    </tr>\n",
       "  </tbody>\n",
       "</table>\n",
       "<p>35346 rows × 22 columns</p>\n",
       "</div>"
      ],
      "text/plain": [
       "        Diabetes_binary  HighBP  HighChol  CholCheck   BMI  Smoker  Stroke  \\\n",
       "8                   1.0     1.0       1.0        1.0  30.0     1.0     0.0   \n",
       "10                  1.0     0.0       0.0        1.0  25.0     1.0     0.0   \n",
       "13                  1.0     1.0       1.0        1.0  28.0     0.0     0.0   \n",
       "17                  1.0     0.0       0.0        1.0  23.0     1.0     0.0   \n",
       "23                  1.0     1.0       0.0        1.0  27.0     0.0     0.0   \n",
       "...                 ...     ...       ...        ...   ...     ...     ...   \n",
       "253659              1.0     0.0       1.0        1.0  37.0     0.0     0.0   \n",
       "253668              1.0     0.0       1.0        1.0  29.0     1.0     0.0   \n",
       "253670              1.0     1.0       1.0        1.0  25.0     0.0     0.0   \n",
       "253676              1.0     1.0       1.0        1.0  18.0     0.0     0.0   \n",
       "253679              1.0     1.0       1.0        1.0  25.0     0.0     0.0   \n",
       "\n",
       "        HeartDiseaseorAttack  PhysActivity  Fruits  ...  AnyHealthcare  \\\n",
       "8                        1.0           0.0     1.0  ...            1.0   \n",
       "10                       0.0           1.0     1.0  ...            1.0   \n",
       "13                       0.0           0.0     0.0  ...            1.0   \n",
       "17                       0.0           1.0     0.0  ...            1.0   \n",
       "23                       0.0           1.0     1.0  ...            1.0   \n",
       "...                      ...           ...     ...  ...            ...   \n",
       "253659                   0.0           0.0     0.0  ...            1.0   \n",
       "253668                   1.0           0.0     1.0  ...            1.0   \n",
       "253670                   1.0           0.0     1.0  ...            1.0   \n",
       "253676                   0.0           0.0     0.0  ...            1.0   \n",
       "253679                   1.0           1.0     1.0  ...            1.0   \n",
       "\n",
       "        NoDocbcCost  GenHlth  MentHlth  PhysHlth  DiffWalk  Sex   Age  \\\n",
       "8               0.0      5.0      30.0      30.0       1.0  0.0   9.0   \n",
       "10              0.0      3.0       0.0       0.0       0.0  1.0  13.0   \n",
       "13              0.0      4.0       0.0       0.0       1.0  0.0  11.0   \n",
       "17              0.0      2.0       0.0       0.0       0.0  1.0   7.0   \n",
       "23              0.0      1.0       0.0       0.0       0.0  0.0  13.0   \n",
       "...             ...      ...       ...       ...       ...  ...   ...   \n",
       "253659          0.0      4.0       0.0       0.0       0.0  0.0   6.0   \n",
       "253668          0.0      2.0       0.0       0.0       1.0  1.0  10.0   \n",
       "253670          0.0      5.0      15.0       0.0       1.0  0.0  13.0   \n",
       "253676          0.0      4.0       0.0       0.0       1.0  0.0  11.0   \n",
       "253679          0.0      2.0       0.0       0.0       0.0  0.0   9.0   \n",
       "\n",
       "        Education  Income  \n",
       "8             5.0     1.0  \n",
       "10            6.0     8.0  \n",
       "13            4.0     6.0  \n",
       "17            5.0     6.0  \n",
       "23            5.0     4.0  \n",
       "...           ...     ...  \n",
       "253659        4.0     1.0  \n",
       "253668        3.0     6.0  \n",
       "253670        6.0     4.0  \n",
       "253676        2.0     4.0  \n",
       "253679        6.0     2.0  \n",
       "\n",
       "[35346 rows x 22 columns]"
      ]
     },
     "execution_count": 247,
     "metadata": {},
     "output_type": "execute_result"
    }
   ],
   "source": [
    "#filter the data to select only those individuals who have diabetes\n",
    "diabetic_individuals = data[data['Diabetes_binary']==1]\n",
    "diabetic_individuals"
   ]
  },
  {
   "cell_type": "code",
   "execution_count": 248,
   "id": "b46e22e3",
   "metadata": {},
   "outputs": [
    {
     "data": {
      "text/html": [
       "<div>\n",
       "<style scoped>\n",
       "    .dataframe tbody tr th:only-of-type {\n",
       "        vertical-align: middle;\n",
       "    }\n",
       "\n",
       "    .dataframe tbody tr th {\n",
       "        vertical-align: top;\n",
       "    }\n",
       "\n",
       "    .dataframe thead th {\n",
       "        text-align: right;\n",
       "    }\n",
       "</style>\n",
       "<table border=\"1\" class=\"dataframe\">\n",
       "  <thead>\n",
       "    <tr style=\"text-align: right;\">\n",
       "      <th></th>\n",
       "      <th>Diabetes_binary</th>\n",
       "      <th>HighBP</th>\n",
       "      <th>HighChol</th>\n",
       "      <th>CholCheck</th>\n",
       "      <th>BMI</th>\n",
       "      <th>Smoker</th>\n",
       "      <th>Stroke</th>\n",
       "      <th>HeartDiseaseorAttack</th>\n",
       "      <th>PhysActivity</th>\n",
       "      <th>Fruits</th>\n",
       "      <th>...</th>\n",
       "      <th>AnyHealthcare</th>\n",
       "      <th>NoDocbcCost</th>\n",
       "      <th>GenHlth</th>\n",
       "      <th>MentHlth</th>\n",
       "      <th>PhysHlth</th>\n",
       "      <th>DiffWalk</th>\n",
       "      <th>Sex</th>\n",
       "      <th>Age</th>\n",
       "      <th>Education</th>\n",
       "      <th>Income</th>\n",
       "    </tr>\n",
       "  </thead>\n",
       "  <tbody>\n",
       "    <tr>\n",
       "      <th>0</th>\n",
       "      <td>0.0</td>\n",
       "      <td>1.0</td>\n",
       "      <td>1.0</td>\n",
       "      <td>1.0</td>\n",
       "      <td>40.0</td>\n",
       "      <td>1.0</td>\n",
       "      <td>0.0</td>\n",
       "      <td>0.0</td>\n",
       "      <td>0.0</td>\n",
       "      <td>0.0</td>\n",
       "      <td>...</td>\n",
       "      <td>1.0</td>\n",
       "      <td>0.0</td>\n",
       "      <td>5.0</td>\n",
       "      <td>18.0</td>\n",
       "      <td>15.0</td>\n",
       "      <td>1.0</td>\n",
       "      <td>0.0</td>\n",
       "      <td>9.0</td>\n",
       "      <td>4.0</td>\n",
       "      <td>3.0</td>\n",
       "    </tr>\n",
       "    <tr>\n",
       "      <th>1</th>\n",
       "      <td>0.0</td>\n",
       "      <td>0.0</td>\n",
       "      <td>0.0</td>\n",
       "      <td>0.0</td>\n",
       "      <td>25.0</td>\n",
       "      <td>1.0</td>\n",
       "      <td>0.0</td>\n",
       "      <td>0.0</td>\n",
       "      <td>1.0</td>\n",
       "      <td>0.0</td>\n",
       "      <td>...</td>\n",
       "      <td>0.0</td>\n",
       "      <td>1.0</td>\n",
       "      <td>3.0</td>\n",
       "      <td>0.0</td>\n",
       "      <td>0.0</td>\n",
       "      <td>0.0</td>\n",
       "      <td>0.0</td>\n",
       "      <td>7.0</td>\n",
       "      <td>6.0</td>\n",
       "      <td>1.0</td>\n",
       "    </tr>\n",
       "    <tr>\n",
       "      <th>2</th>\n",
       "      <td>0.0</td>\n",
       "      <td>1.0</td>\n",
       "      <td>1.0</td>\n",
       "      <td>1.0</td>\n",
       "      <td>28.0</td>\n",
       "      <td>0.0</td>\n",
       "      <td>0.0</td>\n",
       "      <td>0.0</td>\n",
       "      <td>0.0</td>\n",
       "      <td>1.0</td>\n",
       "      <td>...</td>\n",
       "      <td>1.0</td>\n",
       "      <td>1.0</td>\n",
       "      <td>5.0</td>\n",
       "      <td>30.0</td>\n",
       "      <td>30.0</td>\n",
       "      <td>1.0</td>\n",
       "      <td>0.0</td>\n",
       "      <td>9.0</td>\n",
       "      <td>4.0</td>\n",
       "      <td>8.0</td>\n",
       "    </tr>\n",
       "    <tr>\n",
       "      <th>3</th>\n",
       "      <td>0.0</td>\n",
       "      <td>1.0</td>\n",
       "      <td>0.0</td>\n",
       "      <td>1.0</td>\n",
       "      <td>27.0</td>\n",
       "      <td>0.0</td>\n",
       "      <td>0.0</td>\n",
       "      <td>0.0</td>\n",
       "      <td>1.0</td>\n",
       "      <td>1.0</td>\n",
       "      <td>...</td>\n",
       "      <td>1.0</td>\n",
       "      <td>0.0</td>\n",
       "      <td>2.0</td>\n",
       "      <td>0.0</td>\n",
       "      <td>0.0</td>\n",
       "      <td>0.0</td>\n",
       "      <td>0.0</td>\n",
       "      <td>11.0</td>\n",
       "      <td>3.0</td>\n",
       "      <td>6.0</td>\n",
       "    </tr>\n",
       "    <tr>\n",
       "      <th>4</th>\n",
       "      <td>0.0</td>\n",
       "      <td>1.0</td>\n",
       "      <td>1.0</td>\n",
       "      <td>1.0</td>\n",
       "      <td>24.0</td>\n",
       "      <td>0.0</td>\n",
       "      <td>0.0</td>\n",
       "      <td>0.0</td>\n",
       "      <td>1.0</td>\n",
       "      <td>1.0</td>\n",
       "      <td>...</td>\n",
       "      <td>1.0</td>\n",
       "      <td>0.0</td>\n",
       "      <td>2.0</td>\n",
       "      <td>3.0</td>\n",
       "      <td>0.0</td>\n",
       "      <td>0.0</td>\n",
       "      <td>0.0</td>\n",
       "      <td>11.0</td>\n",
       "      <td>5.0</td>\n",
       "      <td>4.0</td>\n",
       "    </tr>\n",
       "    <tr>\n",
       "      <th>...</th>\n",
       "      <td>...</td>\n",
       "      <td>...</td>\n",
       "      <td>...</td>\n",
       "      <td>...</td>\n",
       "      <td>...</td>\n",
       "      <td>...</td>\n",
       "      <td>...</td>\n",
       "      <td>...</td>\n",
       "      <td>...</td>\n",
       "      <td>...</td>\n",
       "      <td>...</td>\n",
       "      <td>...</td>\n",
       "      <td>...</td>\n",
       "      <td>...</td>\n",
       "      <td>...</td>\n",
       "      <td>...</td>\n",
       "      <td>...</td>\n",
       "      <td>...</td>\n",
       "      <td>...</td>\n",
       "      <td>...</td>\n",
       "      <td>...</td>\n",
       "    </tr>\n",
       "    <tr>\n",
       "      <th>253673</th>\n",
       "      <td>0.0</td>\n",
       "      <td>1.0</td>\n",
       "      <td>0.0</td>\n",
       "      <td>1.0</td>\n",
       "      <td>42.0</td>\n",
       "      <td>0.0</td>\n",
       "      <td>0.0</td>\n",
       "      <td>0.0</td>\n",
       "      <td>1.0</td>\n",
       "      <td>1.0</td>\n",
       "      <td>...</td>\n",
       "      <td>1.0</td>\n",
       "      <td>0.0</td>\n",
       "      <td>3.0</td>\n",
       "      <td>14.0</td>\n",
       "      <td>4.0</td>\n",
       "      <td>0.0</td>\n",
       "      <td>1.0</td>\n",
       "      <td>3.0</td>\n",
       "      <td>6.0</td>\n",
       "      <td>8.0</td>\n",
       "    </tr>\n",
       "    <tr>\n",
       "      <th>253674</th>\n",
       "      <td>0.0</td>\n",
       "      <td>0.0</td>\n",
       "      <td>0.0</td>\n",
       "      <td>1.0</td>\n",
       "      <td>27.0</td>\n",
       "      <td>0.0</td>\n",
       "      <td>0.0</td>\n",
       "      <td>0.0</td>\n",
       "      <td>0.0</td>\n",
       "      <td>0.0</td>\n",
       "      <td>...</td>\n",
       "      <td>1.0</td>\n",
       "      <td>0.0</td>\n",
       "      <td>1.0</td>\n",
       "      <td>0.0</td>\n",
       "      <td>0.0</td>\n",
       "      <td>0.0</td>\n",
       "      <td>0.0</td>\n",
       "      <td>3.0</td>\n",
       "      <td>6.0</td>\n",
       "      <td>5.0</td>\n",
       "    </tr>\n",
       "    <tr>\n",
       "      <th>253675</th>\n",
       "      <td>0.0</td>\n",
       "      <td>1.0</td>\n",
       "      <td>1.0</td>\n",
       "      <td>1.0</td>\n",
       "      <td>45.0</td>\n",
       "      <td>0.0</td>\n",
       "      <td>0.0</td>\n",
       "      <td>0.0</td>\n",
       "      <td>0.0</td>\n",
       "      <td>1.0</td>\n",
       "      <td>...</td>\n",
       "      <td>1.0</td>\n",
       "      <td>0.0</td>\n",
       "      <td>3.0</td>\n",
       "      <td>0.0</td>\n",
       "      <td>5.0</td>\n",
       "      <td>0.0</td>\n",
       "      <td>1.0</td>\n",
       "      <td>5.0</td>\n",
       "      <td>6.0</td>\n",
       "      <td>7.0</td>\n",
       "    </tr>\n",
       "    <tr>\n",
       "      <th>253677</th>\n",
       "      <td>0.0</td>\n",
       "      <td>0.0</td>\n",
       "      <td>0.0</td>\n",
       "      <td>1.0</td>\n",
       "      <td>28.0</td>\n",
       "      <td>0.0</td>\n",
       "      <td>0.0</td>\n",
       "      <td>0.0</td>\n",
       "      <td>1.0</td>\n",
       "      <td>1.0</td>\n",
       "      <td>...</td>\n",
       "      <td>1.0</td>\n",
       "      <td>0.0</td>\n",
       "      <td>1.0</td>\n",
       "      <td>0.0</td>\n",
       "      <td>0.0</td>\n",
       "      <td>0.0</td>\n",
       "      <td>0.0</td>\n",
       "      <td>2.0</td>\n",
       "      <td>5.0</td>\n",
       "      <td>2.0</td>\n",
       "    </tr>\n",
       "    <tr>\n",
       "      <th>253678</th>\n",
       "      <td>0.0</td>\n",
       "      <td>1.0</td>\n",
       "      <td>0.0</td>\n",
       "      <td>1.0</td>\n",
       "      <td>23.0</td>\n",
       "      <td>0.0</td>\n",
       "      <td>0.0</td>\n",
       "      <td>0.0</td>\n",
       "      <td>0.0</td>\n",
       "      <td>1.0</td>\n",
       "      <td>...</td>\n",
       "      <td>1.0</td>\n",
       "      <td>0.0</td>\n",
       "      <td>3.0</td>\n",
       "      <td>0.0</td>\n",
       "      <td>0.0</td>\n",
       "      <td>0.0</td>\n",
       "      <td>1.0</td>\n",
       "      <td>7.0</td>\n",
       "      <td>5.0</td>\n",
       "      <td>1.0</td>\n",
       "    </tr>\n",
       "  </tbody>\n",
       "</table>\n",
       "<p>218334 rows × 22 columns</p>\n",
       "</div>"
      ],
      "text/plain": [
       "        Diabetes_binary  HighBP  HighChol  CholCheck   BMI  Smoker  Stroke  \\\n",
       "0                   0.0     1.0       1.0        1.0  40.0     1.0     0.0   \n",
       "1                   0.0     0.0       0.0        0.0  25.0     1.0     0.0   \n",
       "2                   0.0     1.0       1.0        1.0  28.0     0.0     0.0   \n",
       "3                   0.0     1.0       0.0        1.0  27.0     0.0     0.0   \n",
       "4                   0.0     1.0       1.0        1.0  24.0     0.0     0.0   \n",
       "...                 ...     ...       ...        ...   ...     ...     ...   \n",
       "253673              0.0     1.0       0.0        1.0  42.0     0.0     0.0   \n",
       "253674              0.0     0.0       0.0        1.0  27.0     0.0     0.0   \n",
       "253675              0.0     1.0       1.0        1.0  45.0     0.0     0.0   \n",
       "253677              0.0     0.0       0.0        1.0  28.0     0.0     0.0   \n",
       "253678              0.0     1.0       0.0        1.0  23.0     0.0     0.0   \n",
       "\n",
       "        HeartDiseaseorAttack  PhysActivity  Fruits  ...  AnyHealthcare  \\\n",
       "0                        0.0           0.0     0.0  ...            1.0   \n",
       "1                        0.0           1.0     0.0  ...            0.0   \n",
       "2                        0.0           0.0     1.0  ...            1.0   \n",
       "3                        0.0           1.0     1.0  ...            1.0   \n",
       "4                        0.0           1.0     1.0  ...            1.0   \n",
       "...                      ...           ...     ...  ...            ...   \n",
       "253673                   0.0           1.0     1.0  ...            1.0   \n",
       "253674                   0.0           0.0     0.0  ...            1.0   \n",
       "253675                   0.0           0.0     1.0  ...            1.0   \n",
       "253677                   0.0           1.0     1.0  ...            1.0   \n",
       "253678                   0.0           0.0     1.0  ...            1.0   \n",
       "\n",
       "        NoDocbcCost  GenHlth  MentHlth  PhysHlth  DiffWalk  Sex   Age  \\\n",
       "0               0.0      5.0      18.0      15.0       1.0  0.0   9.0   \n",
       "1               1.0      3.0       0.0       0.0       0.0  0.0   7.0   \n",
       "2               1.0      5.0      30.0      30.0       1.0  0.0   9.0   \n",
       "3               0.0      2.0       0.0       0.0       0.0  0.0  11.0   \n",
       "4               0.0      2.0       3.0       0.0       0.0  0.0  11.0   \n",
       "...             ...      ...       ...       ...       ...  ...   ...   \n",
       "253673          0.0      3.0      14.0       4.0       0.0  1.0   3.0   \n",
       "253674          0.0      1.0       0.0       0.0       0.0  0.0   3.0   \n",
       "253675          0.0      3.0       0.0       5.0       0.0  1.0   5.0   \n",
       "253677          0.0      1.0       0.0       0.0       0.0  0.0   2.0   \n",
       "253678          0.0      3.0       0.0       0.0       0.0  1.0   7.0   \n",
       "\n",
       "        Education  Income  \n",
       "0             4.0     3.0  \n",
       "1             6.0     1.0  \n",
       "2             4.0     8.0  \n",
       "3             3.0     6.0  \n",
       "4             5.0     4.0  \n",
       "...           ...     ...  \n",
       "253673        6.0     8.0  \n",
       "253674        6.0     5.0  \n",
       "253675        6.0     7.0  \n",
       "253677        5.0     2.0  \n",
       "253678        5.0     1.0  \n",
       "\n",
       "[218334 rows x 22 columns]"
      ]
     },
     "execution_count": 248,
     "metadata": {},
     "output_type": "execute_result"
    }
   ],
   "source": [
    "#filter the data to select only those individuals who do not have diabetes\n",
    "non_diabetic_individuals = data[data['Diabetes_binary']==0]\n",
    "non_diabetic_individuals"
   ]
  },
  {
   "cell_type": "code",
   "execution_count": 249,
   "id": "43541079",
   "metadata": {},
   "outputs": [
    {
     "name": "stdout",
     "output_type": "stream",
     "text": [
      "Underweight : 169\n",
      "Healthy Weight : 3928\n",
      "Overweight : 10692\n",
      "Obesity : 20557\n"
     ]
    }
   ],
   "source": [
    "#Create a dictionary that contains the values for each BMI category\n",
    "categories = {\n",
    "    'Underweight': (0, 18.5),\n",
    "    'Healthy Weight': (18.5, 25),\n",
    "    'Overweight': (25, 30),\n",
    "    'Obesity': (30, float('inf'))}\n",
    "\n",
    "# Calculate the number of diabetic individuals in each BMI category  \n",
    "bmi_categories = {}\n",
    "for category in categories:\n",
    "    bmi_categories[category] = ((diabetic_individuals['BMI'] >= categories[category][0]) & (diabetic_individuals['BMI'] < categories[category][1])).sum()\n",
    "\n",
    "# Print results for each category\n",
    "for category in bmi_categories:\n",
    "    print(category, ':', bmi_categories[category])"
   ]
  },
  {
   "cell_type": "code",
   "execution_count": 250,
   "id": "e7c032b0",
   "metadata": {},
   "outputs": [
    {
     "name": "stdout",
     "output_type": "stream",
     "text": [
      "Underweight : 2958\n",
      "Healthy Weight : 65025\n",
      "Overweight : 83057\n",
      "Obesity : 67294\n"
     ]
    }
   ],
   "source": [
    "#Create a dictionary that contains the values for each BMI category\n",
    "categories = {\n",
    "    'Underweight': (0, 18.5),\n",
    "    'Healthy Weight': (18.5, 25),\n",
    "    'Overweight': (25, 30),\n",
    "    'Obesity': (30, float('inf'))}\n",
    "\n",
    "# Calculate the number of non-diabetic individuals in each BMI category  \n",
    "bmi_categories = {}\n",
    "for category in categories:\n",
    "    bmi_categories[category] = ((non_diabetic_individuals['BMI'] >= categories[category][0]) & (non_diabetic_individuals['BMI'] < categories[category][1])).sum()\n",
    "\n",
    "# Print results for each category\n",
    "for category in bmi_categories:\n",
    "    print(category, ':', bmi_categories[category])"
   ]
  },
  {
   "cell_type": "markdown",
   "id": "280e6a5e",
   "metadata": {},
   "source": [
    "##### Record the findings in a table format to better visualize the observed number of individuals in each category\n",
    "<h3><center> Observed Number of Diabetic and Non-Diabetic Individuals in Each BMI Category </center></h3>\n",
    "\n",
    "|BMI Category     | Diabetic       | Non-Diabetic     |Row Total  |\n",
    "| --------------- | -------------- | ---------------- |---------- |\n",
    "| Underweight     | 169            | 2958             | 3127      |\n",
    "| Healthy Weight  | 3928           | 65025            | 68953     |\n",
    "| Overweight      | 10692          | 83057            | 93749     |\n",
    "| Obesity         | 20557          | 67294            | 87851     |\n",
    "|Column Total     | 35346          | 218334           | 253680    |"
   ]
  },
  {
   "cell_type": "code",
   "execution_count": 251,
   "id": "a9f1ead0",
   "metadata": {},
   "outputs": [
    {
     "data": {
      "text/plain": [
       "435.6943472090823"
      ]
     },
     "execution_count": 251,
     "metadata": {},
     "output_type": "execute_result"
    }
   ],
   "source": [
    "#Calculate expected number of underweight diabetic patients\n",
    "underweight_diabetic= ((169+2958)*(169+3928+10692+20557))/253680\n",
    "underweight_diabetic"
   ]
  },
  {
   "cell_type": "code",
   "execution_count": 252,
   "id": "6e131e71",
   "metadata": {},
   "outputs": [
    {
     "data": {
      "text/plain": [
       "2691.3056527909175"
      ]
     },
     "execution_count": 252,
     "metadata": {},
     "output_type": "execute_result"
    }
   ],
   "source": [
    "#Calculate expected number of underweight non-diabetic patients\n",
    "underweight_nondiabetic= ((169+2958)*(2958+65025+83057+67294))/253680\n",
    "underweight_nondiabetic"
   ]
  },
  {
   "cell_type": "code",
   "execution_count": 253,
   "id": "90d73aca",
   "metadata": {},
   "outputs": [
    {
     "data": {
      "text/plain": [
       "9607.4295884579"
      ]
     },
     "execution_count": 253,
     "metadata": {},
     "output_type": "execute_result"
    }
   ],
   "source": [
    "#Calculate expected number of healthy weight diabetic patients\n",
    "healthy_diabetic= ((3928+65025)*(169+3928+10692+20557))/253680\n",
    "healthy_diabetic"
   ]
  },
  {
   "cell_type": "code",
   "execution_count": 254,
   "id": "908f614c",
   "metadata": {},
   "outputs": [
    {
     "data": {
      "text/plain": [
       "59345.5704115421"
      ]
     },
     "execution_count": 254,
     "metadata": {},
     "output_type": "execute_result"
    }
   ],
   "source": [
    "#Calculate expected number of healthy weight non-diabetic patients\n",
    "healthy_nondiabetic= ((3928+65025)*(2958+65025+83057+67294))/253680\n",
    "healthy_nondiabetic"
   ]
  },
  {
   "cell_type": "code",
   "execution_count": 255,
   "id": "b5ec6f95",
   "metadata": {},
   "outputs": [
    {
     "data": {
      "text/plain": [
       "13062.33110217597"
      ]
     },
     "execution_count": 255,
     "metadata": {},
     "output_type": "execute_result"
    }
   ],
   "source": [
    "#Calculate expected number of overweight diabetic patients\n",
    "overweight_diabetic= (( 10692+83057 )*(169+3928+10692+20557))/253680\n",
    "overweight_diabetic"
   ]
  },
  {
   "cell_type": "code",
   "execution_count": 256,
   "id": "8fe2f516",
   "metadata": {},
   "outputs": [
    {
     "data": {
      "text/plain": [
       "80686.66889782403"
      ]
     },
     "execution_count": 256,
     "metadata": {},
     "output_type": "execute_result"
    }
   ],
   "source": [
    "#Calculate expected number of overweight non-diabetic patients\n",
    "overweight_nondiabetic= ((10692+83057)*(2958+65025+83057+67294))/253680\n",
    "overweight_nondiabetic"
   ]
  },
  {
   "cell_type": "code",
   "execution_count": 257,
   "id": "03055738",
   "metadata": {},
   "outputs": [
    {
     "data": {
      "text/plain": [
       "12240.544962157048"
      ]
     },
     "execution_count": 257,
     "metadata": {},
     "output_type": "execute_result"
    }
   ],
   "source": [
    "#Calculate expected number of obese diabetic patients\n",
    "obese_diabetic= ((20557+67294 )*(169+3928+10692+20557))/253680\n",
    "obese_diabetic"
   ]
  },
  {
   "cell_type": "code",
   "execution_count": 258,
   "id": "a2eb2f72",
   "metadata": {},
   "outputs": [
    {
     "data": {
      "text/plain": [
       "75610.45503784296"
      ]
     },
     "execution_count": 258,
     "metadata": {},
     "output_type": "execute_result"
    }
   ],
   "source": [
    "#Calculate expected number of obese non-diabetic patients\n",
    "obese_nondiabetic= ((20557+67294 )*(2958+65025+83057+67294))/253680\n",
    "obese_nondiabetic"
   ]
  },
  {
   "cell_type": "markdown",
   "id": "58cac38a",
   "metadata": {},
   "source": [
    "##### Record the findings in a table format to better visualize the observed number of individuals in each category\n",
    "\n",
    "<h3><center> Expected Number of Diabetic and Non-Diabetic Individuals in Each BMI Category </center></h3>\n",
    "\n",
    "|BMI Category     | Diabetic        | Non-Diabetic     |Row Total  |\n",
    "| --------------- | --------------- | ---------------- |---------- |\n",
    "| Underweight     | 436             | 2691             | 3127      |\n",
    "| Healthy Weight  | 9607            | 59346            | 68953     |\n",
    "| Overweight      | 13062           | 80687            | 93749     |\n",
    "| Obesity         | 12241           | 75610            | 87851     |\n",
    "|Column Total     | 35346           | 218334           | 253680    |"
   ]
  },
  {
   "cell_type": "code",
   "execution_count": 259,
   "id": "85982324",
   "metadata": {},
   "outputs": [
    {
     "data": {
      "text/plain": [
       "11154.73404364663"
      ]
     },
     "execution_count": 259,
     "metadata": {},
     "output_type": "execute_result"
    }
   ],
   "source": [
    "#perform chi-square statistical test\n",
    "chi_square = ((169-436)**2/436)+((3928-9607)**2/9607)+((10692-13062)**2/13062)+((20557-12241)**2/12240)+((2958-2691)**2/2691)+((65025-59346)**2/59346)+((83057-80687)**2/80687)+((67294-75610)**2/75610)\n",
    "chi_square"
   ]
  },
  {
   "cell_type": "markdown",
   "id": "74fd0191",
   "metadata": {},
   "source": [
    "##### Find out the degree of freedom\n",
    "<br>df=(number of rows-1)*(number of columns-1)\n",
    "df=(4-1)*(2-1)<br>  df=3"
   ]
  },
  {
   "cell_type": "code",
   "execution_count": 260,
   "id": "31b26c12",
   "metadata": {},
   "outputs": [
    {
     "data": {
      "text/plain": [
       "7.814727903251179"
      ]
     },
     "execution_count": 260,
     "metadata": {},
     "output_type": "execute_result"
    }
   ],
   "source": [
    "#Calculate the critical value of chi-square with a degree of freedom 3 and at 95% confidence interval\n",
    "critical_value = stats.chi2.ppf(q=0.95, df = 3)\n",
    "critical_value"
   ]
  },
  {
   "cell_type": "markdown",
   "id": "5127ddbe",
   "metadata": {},
   "source": [
    "#### Result interpretation:\n",
    "Since the calculated value of chi-square statistical value of 11154.7 is much greater than the critical value of chi-square 7.81 we will reject the null hypothesis which states that the is no significant association between diabetes occurrence and different BMI categories. According to our statistical test result there is a significan association between diabetes occurence and BMI categories."
   ]
  },
  {
   "cell_type": "markdown",
   "id": "93229f8d",
   "metadata": {},
   "source": [
    "### Performing Chi-Square Statistical Test to Understand the Relationship between Other Health Conditions and Diabetes"
   ]
  },
  {
   "cell_type": "markdown",
   "id": "a1dcb9bf",
   "metadata": {},
   "source": [
    "Chi-Square statistical test could further be applied to find out if there is a significant association between presence of diabetes in individuals with other health conditions such as high blood pressure, high cholesterol, stroke and heart disease or attack.\n",
    "\n",
    "We could once again state our null and alternate hypothesis as follows:\n",
    "\n",
    "##### Null Hypothesis: \n",
    "There is no significant association between occurence of diabetes and other health conditions\n",
    "##### Alternate Hypothesis: \n",
    "There is a significant association between occurence of diabetes and other health conditions"
   ]
  },
  {
   "cell_type": "markdown",
   "id": "b4449b95",
   "metadata": {},
   "source": [
    "#### High Blood Pressure:"
   ]
  },
  {
   "cell_type": "code",
   "execution_count": 261,
   "id": "c3fc1d6d",
   "metadata": {},
   "outputs": [
    {
     "name": "stdout",
     "output_type": "stream",
     "text": [
      "Number of diabetic individuals with and without high blood pressure is:\n"
     ]
    },
    {
     "data": {
      "text/plain": [
       "1.0    26604\n",
       "0.0     8742\n",
       "Name: HighBP, dtype: int64"
      ]
     },
     "execution_count": 261,
     "metadata": {},
     "output_type": "execute_result"
    }
   ],
   "source": [
    "#filter the data to select only the individuals with diabetes\n",
    "diabetic_individuals = data[data['Diabetes_binary']==1]\n",
    "\n",
    "# count the number of individuals who have diabetes and high blood pressure\n",
    "HighBP_diabetic_individuals = diabetic_individuals['HighBP'].value_counts()\n",
    "\n",
    "# display the number of diabetic individuals with and without high blood pressure\n",
    "print(\"Number of diabetic individuals with and without high blood pressure is:\")\n",
    "HighBP_diabetic_individuals"
   ]
  },
  {
   "cell_type": "code",
   "execution_count": 262,
   "id": "d5d4a21f",
   "metadata": {},
   "outputs": [
    {
     "name": "stdout",
     "output_type": "stream",
     "text": [
      "Number of non-diabetic individuals with and without high blood pressure is:\n"
     ]
    },
    {
     "data": {
      "text/plain": [
       "0.0    136109\n",
       "1.0     82225\n",
       "Name: HighBP, dtype: int64"
      ]
     },
     "execution_count": 262,
     "metadata": {},
     "output_type": "execute_result"
    }
   ],
   "source": [
    "#filter the data to select only the individuals without diabetes\n",
    "nondiabetic_individuals = data[data['Diabetes_binary']==0]\n",
    "\n",
    "#count the number of individuals who have diabetes and are smoking vs non-smoking\n",
    "HighBP_nondiabetic_individuals = nondiabetic_individuals['HighBP'].value_counts()\n",
    "\n",
    "#display the number of non-diabetic individuals with and without high blood pressure\n",
    "print(\"Number of non-diabetic individuals with and without high blood pressure is:\")\n",
    "HighBP_nondiabetic_individuals"
   ]
  },
  {
   "cell_type": "markdown",
   "id": "4dc8f0b4",
   "metadata": {},
   "source": [
    "##### Record the findings in a table format to better visualize the observed number of individuals in each category"
   ]
  },
  {
   "cell_type": "markdown",
   "id": "8f0cb235",
   "metadata": {},
   "source": [
    "<h3><center> Observed Number of Diabetic and Non-Diabetic Individuals With and Without High Blood Pressure </center></h3>\n",
    "\n",
    "|BP Condition     | Diabetic       | Non-Diabetic     |Row Total  |\n",
    "| --------------- | -------------- | ---------------- |---------- |\n",
    "| High BP         | 26604          | 82225            | 108829    |\n",
    "| Without High BP | 8742           | 136109           | 144851    |\n",
    "| Column Total    | 35346          | 218334           | 253680    |"
   ]
  },
  {
   "cell_type": "markdown",
   "id": "825f7d77",
   "metadata": {},
   "source": [
    "##### Calculate the expected number of individuals in each category"
   ]
  },
  {
   "cell_type": "code",
   "execution_count": 263,
   "id": "f2b9d44f",
   "metadata": {},
   "outputs": [
    {
     "name": "stdout",
     "output_type": "stream",
     "text": [
      "Expected number of diabetic individuals with high blood pressure: 15163.473013245033\n"
     ]
    }
   ],
   "source": [
    "#Calculate expected number of individuals with high blood pressure and diabetes\n",
    "expected_HighBP_diabetic= ((26604+82225)*(26604+8742))/253680\n",
    "print('Expected number of diabetic individuals with high blood pressure:', expected_HighBP_diabetic)"
   ]
  },
  {
   "cell_type": "code",
   "execution_count": 264,
   "id": "6eb2d360",
   "metadata": {},
   "outputs": [
    {
     "name": "stdout",
     "output_type": "stream",
     "text": [
      "Expected number of diabetic individuals without high blood pressure: 20182.52698675497\n"
     ]
    }
   ],
   "source": [
    "#Calculate expected number of individuals without high blood pressure and diabetes\n",
    "expected_NoHighBP_diabetic =((8742+136109)*(26604+8742))/253680\n",
    "print('Expected number of diabetic individuals without high blood pressure:',expected_NoHighBP_diabetic)"
   ]
  },
  {
   "cell_type": "code",
   "execution_count": 265,
   "id": "384d2d44",
   "metadata": {},
   "outputs": [
    {
     "name": "stdout",
     "output_type": "stream",
     "text": [
      "Expected number of non-diabetic individuals with high blood pressure: 93665.52698675497\n"
     ]
    }
   ],
   "source": [
    "#Calculate expected number of individuals with high blood pressure and without diabetes\n",
    "expected_HighBP_nondiabetic= ((26604+82225)*(136109+82225))/253680\n",
    "print('Expected number of non-diabetic individuals with high blood pressure:',expected_HighBP_nondiabetic)"
   ]
  },
  {
   "cell_type": "code",
   "execution_count": 266,
   "id": "1e21fbaa",
   "metadata": {},
   "outputs": [
    {
     "name": "stdout",
     "output_type": "stream",
     "text": [
      "Expected number of non-diabetic individuals without high blood pressure: 124668.47301324503\n"
     ]
    }
   ],
   "source": [
    "#Calculate expected number of individuals without high blood pressure and without diabetes\n",
    "expected_NoHighBP_nondiabetic =((8742+136109)*(136109+82225))/253680\n",
    "print('Expected number of non-diabetic individuals without high blood pressure:',expected_NoHighBP_nondiabetic)"
   ]
  },
  {
   "cell_type": "markdown",
   "id": "1df534e0",
   "metadata": {},
   "source": [
    "##### Record the findings in a table format to better visualize the expected number of individuals in each category"
   ]
  },
  {
   "cell_type": "markdown",
   "id": "c21237bf",
   "metadata": {},
   "source": [
    "<h3><center> Expected Number of Diabetic and Non-Diabetic Individuals With and Without High Blood Pressure </center></h3>\n",
    "\n",
    "|BP Condition     | Diabetic       | Non-Diabetic     |Row Total  |\n",
    "| --------------- | -------------- | ---------------- |---------- |\n",
    "| High BP         | 15163          | 93666            | 108829    |\n",
    "| Without High BP | 20183          | 124668           | 144851    |\n",
    "| Column Total    | 35346          | 218334           | 253680    |"
   ]
  },
  {
   "cell_type": "markdown",
   "id": "68f56cb2",
   "metadata": {},
   "source": [
    "##### Perform Chi-Square Statistical test "
   ]
  },
  {
   "cell_type": "code",
   "execution_count": 267,
   "id": "4691ecf3",
   "metadata": {},
   "outputs": [
    {
     "name": "stdout",
     "output_type": "stream",
     "text": [
      "Chi-square statistical test: 48800.00377639661\n"
     ]
    }
   ],
   "source": [
    "#perform chi-square statistical test\n",
    "chi_square_BP = ((26604-15163)**2/15163)+((8742-20183)**2/20183)+((136109-93666)**2/93666)+((82225-124668)**2/124668)\n",
    "print('Chi-square statistical test:',chi_square_BP)"
   ]
  },
  {
   "cell_type": "markdown",
   "id": "484a0764",
   "metadata": {},
   "source": [
    "#### High Cholesterol:"
   ]
  },
  {
   "cell_type": "code",
   "execution_count": 268,
   "id": "2924a115",
   "metadata": {},
   "outputs": [
    {
     "name": "stdout",
     "output_type": "stream",
     "text": [
      "Number of diabetic individuals with and without high cholesterol levels is:\n"
     ]
    },
    {
     "data": {
      "text/plain": [
       "1.0    23686\n",
       "0.0    11660\n",
       "Name: HighChol, dtype: int64"
      ]
     },
     "execution_count": 268,
     "metadata": {},
     "output_type": "execute_result"
    }
   ],
   "source": [
    "#filter the data to select only the individuals with diabetes\n",
    "diabetic_individuals = data[data['Diabetes_binary']==1]\n",
    "\n",
    "#Count the number of individuals who have diabetes and high cholesterol levels\n",
    "HighChol_diabetic_individuals = diabetic_individuals['HighChol'].value_counts()\n",
    "\n",
    "# Display the number of diabetic individuals with and without high cholesterol levels\n",
    "print(\"Number of diabetic individuals with and without high cholesterol levels is:\")\n",
    "HighChol_diabetic_individuals"
   ]
  },
  {
   "cell_type": "code",
   "execution_count": 269,
   "id": "25ce3f78",
   "metadata": {},
   "outputs": [
    {
     "name": "stdout",
     "output_type": "stream",
     "text": [
      "Number of non-diabetic individuals with and without high cholesterol levels is:\n"
     ]
    },
    {
     "data": {
      "text/plain": [
       "0.0    134429\n",
       "1.0     83905\n",
       "Name: HighChol, dtype: int64"
      ]
     },
     "execution_count": 269,
     "metadata": {},
     "output_type": "execute_result"
    }
   ],
   "source": [
    "#filter the data to select only the individuals without diabetes\n",
    "nondiabetic_individuals = data[data['Diabetes_binary']==0]\n",
    "\n",
    "# Count the number of individuals who have diabetes with and without high cholesterol\n",
    "HighChol_nondiabetic_individuals = nondiabetic_individuals['HighChol'].value_counts()\n",
    "\n",
    "# Display the number of non-diabetic individuals with and without high cholesterol\n",
    "print(\"Number of non-diabetic individuals with and without high cholesterol levels is:\")\n",
    "HighChol_nondiabetic_individuals"
   ]
  },
  {
   "cell_type": "markdown",
   "id": "de318667",
   "metadata": {},
   "source": [
    "##### Record the findings in a table format to better visualize the observed number of individuals in each category"
   ]
  },
  {
   "cell_type": "markdown",
   "id": "b6a302f4",
   "metadata": {},
   "source": [
    "<h3><center> Observed Number of Diabetic and Non-Diabetic Individuals With and Without High Cholesterol </center></h3>\n",
    "\n",
    "|Cholesterol Condition | Diabetic       | Non-Diabetic     |Row Total  |\n",
    "| -------------------- | -------------- | ---------------- |---------- |\n",
    "| High Chol            | 23686          | 83905            | 107591    |\n",
    "| Without High Chol    | 11660          | 134429           | 146089    |\n",
    "| Column Total         | 35346          | 218334           | 253680    |"
   ]
  },
  {
   "cell_type": "code",
   "execution_count": 270,
   "id": "aa5227e0",
   "metadata": {},
   "outputs": [
    {
     "name": "stdout",
     "output_type": "stream",
     "text": [
      "Expected number of diabetic individuals with high cholesterol: 14990.978736991485\n"
     ]
    }
   ],
   "source": [
    "#Calculate expected number of individuals with high cholesterol and diabetes\n",
    "expected_HighChol_diabetic= ((23686+83905)*(23686+11660))/253680\n",
    "print('Expected number of diabetic individuals with high cholesterol:', expected_HighChol_diabetic)"
   ]
  },
  {
   "cell_type": "code",
   "execution_count": 271,
   "id": "7ce582a7",
   "metadata": {},
   "outputs": [
    {
     "name": "stdout",
     "output_type": "stream",
     "text": [
      "Expected number of diabetic individuals without high cholesterol: 20355.021263008515\n"
     ]
    }
   ],
   "source": [
    "#Calculate expected number of individuals without high cholesterol and diabetes\n",
    "expected_NoHighChol_diabetic =((11660 + 134429)*(23686+11660))/253680\n",
    "print('Expected number of diabetic individuals without high cholesterol:',expected_NoHighChol_diabetic)"
   ]
  },
  {
   "cell_type": "code",
   "execution_count": 272,
   "id": "ba1e75aa",
   "metadata": {},
   "outputs": [
    {
     "name": "stdout",
     "output_type": "stream",
     "text": [
      "Expected number of non-diabetic individuals with high cholesterol: 92600.02126300852\n"
     ]
    }
   ],
   "source": [
    "#Calculate expected number of individuals with high cholesterol and without diabetes\n",
    "expected_HighChol_nondiabetic= ((23686+83905)*(134429+83905))/253680\n",
    "print('Expected number of non-diabetic individuals with high cholesterol:',expected_HighChol_nondiabetic)"
   ]
  },
  {
   "cell_type": "code",
   "execution_count": 273,
   "id": "fdb6d147",
   "metadata": {},
   "outputs": [
    {
     "name": "stdout",
     "output_type": "stream",
     "text": [
      "Expected number of non-diabetic individuals without high cholesterol: 125733.97873699148\n"
     ]
    }
   ],
   "source": [
    "#Calculate expected number of individuals without high cholesterol and without diabetes\n",
    "expected_NoHighChol_nondiabetic =((11660 + 134429)*(134429+83905))/253680\n",
    "print('Expected number of non-diabetic individuals without high cholesterol:',expected_NoHighChol_nondiabetic)"
   ]
  },
  {
   "cell_type": "markdown",
   "id": "bbc3f70a",
   "metadata": {},
   "source": [
    "##### Record the findings in a table format to better visualize the observed number of individuals in each category"
   ]
  },
  {
   "cell_type": "markdown",
   "id": "4f552310",
   "metadata": {},
   "source": [
    "<h3><center> Expected Number of Diabetic and Non-Diabetic Individuals With and Without High Cholesterol </center></h3>\n",
    "\n",
    "|Cholesterol Level | Diabetic       | Non-Diabetic     |Row Total  |\n",
    "| ---------------- | -------------- | ---------------- |---------- |\n",
    "| High Chol        | 14991          | 92600            | 107591    |\n",
    "| Without High Chol| 20355          | 125734           | 146089    |\n",
    "| Column Total     | 35346          | 218334           | 253680    |"
   ]
  },
  {
   "cell_type": "code",
   "execution_count": 274,
   "id": "ea0b0634",
   "metadata": {},
   "outputs": [
    {
     "name": "stdout",
     "output_type": "stream",
     "text": [
      "Chi-square statistical value: 41567.93386332598\n"
     ]
    }
   ],
   "source": [
    "#perform chi-square statistical test\n",
    "chi_square_chol = ((23686-14991)**2/14991)+((11660-20355)**2/20355)+((134429-92600)**2/92600)+((83905-125734)**2/125734)\n",
    "print('Chi-square statistical value:',chi_square_chol)"
   ]
  },
  {
   "cell_type": "markdown",
   "id": "163dbc21",
   "metadata": {},
   "source": [
    "#### Stroke:"
   ]
  },
  {
   "cell_type": "code",
   "execution_count": 275,
   "id": "f77a0d0d",
   "metadata": {},
   "outputs": [
    {
     "name": "stdout",
     "output_type": "stream",
     "text": [
      "Number of diabetic individuals who had and never had a stroke is:\n",
      "0.0    32078\n",
      "1.0     3268\n",
      "Name: Stroke, dtype: int64\n"
     ]
    }
   ],
   "source": [
    "#filter the data to select only the individuals with diabetes\n",
    "diabetic_individuals = data[data['Diabetes_binary']==1]\n",
    "\n",
    "#Count the number of individuals who have diabetes and had or never had a stroke\n",
    "Stroke_diabetic_individuals = diabetic_individuals['Stroke'].value_counts()\n",
    "\n",
    "# Display the number of diabetic individuals who had and never had a stroke\n",
    "print(\"Number of diabetic individuals who had and never had a stroke is:\")\n",
    "print(Stroke_diabetic_individuals)"
   ]
  },
  {
   "cell_type": "code",
   "execution_count": 276,
   "id": "ed04a2da",
   "metadata": {},
   "outputs": [
    {
     "name": "stdout",
     "output_type": "stream",
     "text": [
      "Number of non-diabetic individuals who had and never had a stroke is:\n",
      "0.0    211310\n",
      "1.0      7024\n",
      "Name: Stroke, dtype: int64\n"
     ]
    }
   ],
   "source": [
    "#filter the data to select only the individuals without diabetes\n",
    "nondiabetic_individuals = data[data['Diabetes_binary']==0]\n",
    "\n",
    "# Count the number of individuals who are non-diabetic and had or never had a stroke\n",
    "Stroke_nondiabetic_individuals = nondiabetic_individuals['Stroke'].value_counts()\n",
    "\n",
    "# Display the number of non-diabetic individuals who had or never had a stroke\n",
    "print(\"Number of non-diabetic individuals who had and never had a stroke is:\")\n",
    "print(Stroke_nondiabetic_individuals)"
   ]
  },
  {
   "cell_type": "markdown",
   "id": "308ee83c",
   "metadata": {},
   "source": [
    "##### Record the findings in a table format to better visualize the observed number of individuals in each category"
   ]
  },
  {
   "cell_type": "markdown",
   "id": "7482ccb5",
   "metadata": {},
   "source": [
    "<h3><center> Observed Number of Diabetic and Non-Diabetic Individuals Who Had and Never Had a Stroke </center></h3>\n",
    "\n",
    "|Stroke             | Diabetic       | Non-Diabetic     |Row Total  |\n",
    "| ----------------- | -------------- | ---------------- |---------- |\n",
    "| Had a Stroke      | 3268           | 7024             | 158115    |\n",
    "| Never Had a Stroke| 32078          | 211310           | 95565     |\n",
    "| Column Total      | 35346          | 218334           | 253680    |"
   ]
  },
  {
   "cell_type": "code",
   "execution_count": 277,
   "id": "6176310f",
   "metadata": {},
   "outputs": [
    {
     "name": "stdout",
     "output_type": "stream",
     "text": [
      "Expected number of diabetic individuals who had a stroke: 1434.0154210028381\n"
     ]
    }
   ],
   "source": [
    "#Calculate expected number of individuals who had a stroke and has diabetes\n",
    "expected_stroke_diabetic= ((3268+7024)*(3268+32078))/253680\n",
    "print('Expected number of diabetic individuals who had a stroke:', expected_stroke_diabetic)"
   ]
  },
  {
   "cell_type": "code",
   "execution_count": 278,
   "id": "11844eac",
   "metadata": {},
   "outputs": [
    {
     "name": "stdout",
     "output_type": "stream",
     "text": [
      "Expected number of diabetic individuals who never had a stroke: 33911.98457899716\n"
     ]
    }
   ],
   "source": [
    "#Calculate expected number of individuals who never had a stroke and has diabetes\n",
    "expected_NoStroke_diabetic =((32078+211310)*(3268+32078))/253680\n",
    "print('Expected number of diabetic individuals who never had a stroke:',expected_NoStroke_diabetic)"
   ]
  },
  {
   "cell_type": "code",
   "execution_count": 279,
   "id": "93c3cbdf",
   "metadata": {},
   "outputs": [
    {
     "name": "stdout",
     "output_type": "stream",
     "text": [
      "Expected number of non-diabetic individuals who had a stroke: 8857.984578997162\n"
     ]
    }
   ],
   "source": [
    "#Calculate expected number of individuals who had a stroke and without diabetes\n",
    "expected_stroke_nondiabetic= ((3268+7024)*(7024+211310))/253680\n",
    "print('Expected number of non-diabetic individuals who had a stroke:',expected_stroke_nondiabetic)"
   ]
  },
  {
   "cell_type": "code",
   "execution_count": 280,
   "id": "65686854",
   "metadata": {},
   "outputs": [
    {
     "name": "stdout",
     "output_type": "stream",
     "text": [
      "Expected number of non-diabetic individuals who never had a stroke: 209476.01542100284\n"
     ]
    }
   ],
   "source": [
    "#Calculate expected number of individuals without strokel and without diabetes\n",
    "expected_NoStroke_nondiabetic =((32078 + 211310)*(7024+211310))/253680\n",
    "print('Expected number of non-diabetic individuals who never had a stroke:',expected_NoStroke_nondiabetic)"
   ]
  },
  {
   "cell_type": "markdown",
   "id": "7c7dadd4",
   "metadata": {},
   "source": [
    "##### Record the findings in a table format to better visualize the observed number of individuals in each category"
   ]
  },
  {
   "cell_type": "markdown",
   "id": "7a076dd9",
   "metadata": {},
   "source": [
    "<h3><center> Expected Number of Diabetic and Non-Diabetic Individuals Who Had and Never Had a Stroke </center></h3>\n",
    "\n",
    "|Stroke             | Diabetic       | Non-Diabetic     |Row Total  |\n",
    "| ----------------- | -------------- | ---------------- |---------- |\n",
    "| Had a Stroke      | 1434           | 8858             | 158115    |\n",
    "| Never Had a Stroke| 33912          | 209476           | 95565     |\n",
    "| Column Total      | 35346          | 218334           | 253680    |"
   ]
  },
  {
   "cell_type": "code",
   "execution_count": 281,
   "id": "25385acb",
   "metadata": {},
   "outputs": [
    {
     "data": {
      "text/plain": [
       "2840.53741738055"
      ]
     },
     "execution_count": 281,
     "metadata": {},
     "output_type": "execute_result"
    }
   ],
   "source": [
    "#perform chi-square statistical test\n",
    "chi_square_stroke = ((3268-1434)**2/1434)+((32078-33912)**2/33912)+((7024-8858)**2/8858)+((211310-209476)**2/209476)\n",
    "chi_square_stroke"
   ]
  },
  {
   "cell_type": "markdown",
   "id": "f85bde3d",
   "metadata": {},
   "source": [
    "#### Heart Disease or Attack:"
   ]
  },
  {
   "cell_type": "code",
   "execution_count": 282,
   "id": "096ed684",
   "metadata": {},
   "outputs": [
    {
     "name": "stdout",
     "output_type": "stream",
     "text": [
      "Number of diabetic individuals with and without heart disease or attack is:\n"
     ]
    },
    {
     "data": {
      "text/plain": [
       "0.0    27468\n",
       "1.0     7878\n",
       "Name: HeartDiseaseorAttack, dtype: int64"
      ]
     },
     "execution_count": 282,
     "metadata": {},
     "output_type": "execute_result"
    }
   ],
   "source": [
    "#filter the data to select only the individuals with heart disease or attack\n",
    "diabetic_individuals = data[data['Diabetes_binary']==1]\n",
    "\n",
    "#Count the number of individuals who have diabetes and has heart disease or attack\n",
    "HeartDisease_diabetic_individuals = diabetic_individuals['HeartDiseaseorAttack'].value_counts()\n",
    "\n",
    "# Display the number of diabetic individuals with and without heart disease or attack\n",
    "print(\"Number of diabetic individuals with and without heart disease or attack is:\")\n",
    "HeartDisease_diabetic_individuals"
   ]
  },
  {
   "cell_type": "code",
   "execution_count": 283,
   "id": "17c6c308",
   "metadata": {},
   "outputs": [
    {
     "name": "stdout",
     "output_type": "stream",
     "text": [
      "Number of non-diabetic individuals with and without heart disease or attack is:\n"
     ]
    },
    {
     "data": {
      "text/plain": [
       "0.0    202319\n",
       "1.0     16015\n",
       "Name: HeartDiseaseorAttack, dtype: int64"
      ]
     },
     "execution_count": 283,
     "metadata": {},
     "output_type": "execute_result"
    }
   ],
   "source": [
    "#filter the data to select only the individuals without heart disease or attack\n",
    "nondiabetic_individuals = data[data['Diabetes_binary']==0]\n",
    "\n",
    "# Count the number of individuals who are non-dabetic and have heart disease or attack\n",
    "HeartDisease_nondiabetic_individuals = nondiabetic_individuals['HeartDiseaseorAttack'].value_counts()\n",
    "\n",
    "# Display the number of non diabetic individuals with or withour heart disease or attack\n",
    "print(\"Number of non-diabetic individuals with and without heart disease or attack is:\")\n",
    "HeartDisease_nondiabetic_individuals"
   ]
  },
  {
   "cell_type": "markdown",
   "id": "91603ee0",
   "metadata": {},
   "source": [
    "##### Record the findings in a table format to better visualize the observed number of individuals in each category"
   ]
  },
  {
   "cell_type": "markdown",
   "id": "be89ea83",
   "metadata": {},
   "source": [
    "<h3><center> Observed Number of Diabetic and Non-Diabetic Individuals Who Had and Never Had a Heart Attack or Disease </center></h3>\n",
    "\n",
    "|Heart Disease/Attack            | Diabetic       | Non-Diabetic     |Row Total  |\n",
    "| ------------------------------ | -------------- | ---------------- |---------- |\n",
    "| Has Heart Disease/Attack       | 7878           | 16015            | 23893     |\n",
    "| Never Had Heart Disease/Attack | 27468          | 202319           | 229787    |\n",
    "| Column Total                   | 35346          | 218334           | 253680    |"
   ]
  },
  {
   "cell_type": "code",
   "execution_count": 284,
   "id": "a7fb5485",
   "metadata": {},
   "outputs": [
    {
     "name": "stdout",
     "output_type": "stream",
     "text": [
      "Expected number of diabetic individuals who had a heart disease or attack: 3329.083798486282\n"
     ]
    }
   ],
   "source": [
    "#Calculate expected number of individuals who has a heart disease or attack and has diabetes\n",
    "expected_HeartAttack_diabetic= ((7878+16015)*(7878+27468))/253680\n",
    "print('Expected number of diabetic individuals who had a heart disease or attack:',expected_HeartAttack_diabetic)"
   ]
  },
  {
   "cell_type": "code",
   "execution_count": 285,
   "id": "016a8e90",
   "metadata": {},
   "outputs": [
    {
     "name": "stdout",
     "output_type": "stream",
     "text": [
      "Expected number of diabetic individuals who never had a heart disease or attack: 32016.91620151372\n"
     ]
    }
   ],
   "source": [
    "#Calculate expected number of individuals who never had a heart disease or attack and has diabetes\n",
    "expected_NoHeartAttack_diabetic= ((27468+202319)*(7878+27468))/253680\n",
    "print('Expected number of diabetic individuals who never had a heart disease or attack:',expected_NoHeartAttack_diabetic)"
   ]
  },
  {
   "cell_type": "code",
   "execution_count": 286,
   "id": "d322a920",
   "metadata": {},
   "outputs": [
    {
     "name": "stdout",
     "output_type": "stream",
     "text": [
      "Expected number of non-diabetic individuals who had a heart disease or attack 20563.91620151372\n"
     ]
    }
   ],
   "source": [
    "#Calculate expected number of individuals who has a heart disease or attack and non-diabetic\n",
    "expected_HeartAttack_nondiabetic= ((7878+16015)*(16015+202319))/253680\n",
    "print('Expected number of non-diabetic individuals who had a heart disease or attack',expected_HeartAttack_nondiabetic)"
   ]
  },
  {
   "cell_type": "code",
   "execution_count": 287,
   "id": "6f1f56e9",
   "metadata": {},
   "outputs": [
    {
     "name": "stdout",
     "output_type": "stream",
     "text": [
      "Expected number of non-diabetic individuals who never had a heart disease or attack: 197770.08379848627\n"
     ]
    }
   ],
   "source": [
    "#Calculate expected number of individuals who never had a heart disease or attack and non-diabetic\n",
    "expected_HeartAttack_nondiabetic= ((27468+202319)*(16015+202319))/253680\n",
    "print('Expected number of non-diabetic individuals who never had a heart disease or attack:',expected_HeartAttack_nondiabetic)"
   ]
  },
  {
   "cell_type": "markdown",
   "id": "070e977a",
   "metadata": {},
   "source": [
    "##### Record the findings in a table format to better visualize the observed number of individuals in each category"
   ]
  },
  {
   "cell_type": "markdown",
   "id": "904263f0",
   "metadata": {},
   "source": [
    "<h3><center> Expected Number of Diabetic and Non-Diabetic Individuals Who Had and Never Had a Heart Attack or Disease </center></h3>\n",
    "\n",
    "|Heart Disease/Attack            | Diabetic       | Non-Diabetic     |Row Total  |\n",
    "| ------------------------------ | -------------- | ---------------- |---------- |\n",
    "| Has Heart Disease/Attack       | 3329           | 20564            | 23893     |\n",
    "| Never Had Heart Disease/Attack | 32017          | 197770           | 229787    |\n",
    "| Column Total                   | 35346          | 218334           | 253680    |"
   ]
  },
  {
   "cell_type": "code",
   "execution_count": 288,
   "id": "bd378f7b",
   "metadata": {},
   "outputs": [
    {
     "data": {
      "text/plain": [
       "7973.352921612689"
      ]
     },
     "execution_count": 288,
     "metadata": {},
     "output_type": "execute_result"
    }
   ],
   "source": [
    "#perform chi-square statistical test\n",
    "chi_square_stroke = ((7878-3329)**2/3329)+((27468-32017)**2/32017)+((16015-20564)**2/20564)+((202319-197770)**2/197770)\n",
    "chi_square_stroke"
   ]
  },
  {
   "cell_type": "markdown",
   "id": "8f1f9363",
   "metadata": {},
   "source": [
    "##### Find out the degree of freedom\n",
    "df=(number of rows-1)(number of columns-1) df=(2-1)(2-1) df=1"
   ]
  },
  {
   "cell_type": "code",
   "execution_count": 289,
   "id": "e7a8e54d",
   "metadata": {},
   "outputs": [
    {
     "data": {
      "text/plain": [
       "3.841458820694124"
      ]
     },
     "execution_count": 289,
     "metadata": {},
     "output_type": "execute_result"
    }
   ],
   "source": [
    "#Calculate the critical value of chi-square with a degree of freedom 1 and at 95% confidence interval\n",
    "\n",
    "critical_value = stats.chi2.ppf(q=0.95, df = 1)\n",
    "critical_value"
   ]
  },
  {
   "cell_type": "markdown",
   "id": "860813a7",
   "metadata": {},
   "source": [
    "### Interpretation of results:\n",
    "\n",
    "The chi-square statistic which measures the relationship between two categorical variables has been used to find out the association for different health conditions in relation to diabetes. The critical value of the chi-square statistic 3.84 has been calculated for 95% confidence interval and the degree of freedom of 1. \n",
    "\n",
    "After conducting chi-square statistical analysis for diabetic and non diabetic individuals with and without other health conditions such as high blood pressure, high cholesterol, stroke and heart disease or attack, we have the following results for chi-square statistic:\n",
    "\n",
    "Chi-square statistic for diabetes and high blood pressure: 48800<br>\n",
    "Chi-square statistic for diabetes and high cholesterol: 41568<br>\n",
    "Chi-square statistic for diabetes and stroke:2840.5<br>\n",
    "Chi-square statistic for diabetes and heart disease or attack:7973.4<br>\n",
    "\n",
    "\n",
    "The chi-square statistical value for all health conditions are much greater than the critical value which indicates that there is a significant association between diabetes and these health conditions. Based on the comparison of chi-square statistic results and critical value we can confidently reject the null hypothesis which assumes that there is no significant association between diabetes and other health conditions. \n"
   ]
  },
  {
   "cell_type": "markdown",
   "id": "218cc35d",
   "metadata": {},
   "source": [
    "# Conclusion"
   ]
  },
  {
   "cell_type": "markdown",
   "id": "d515d4ee",
   "metadata": {},
   "source": [
    "In the heart of our study, we asked the following question: Does diabetes have a connection with other health factors like obesity, high blood pressure, high cholesterol, stroke or heart attack?\n",
    "\n",
    "We began our analysis using various helpful tools. Numpy provided us with the power to handle numbers, while Pandas allowed us to organize our data. Scipy and Statistics came to our aid when it was time for analysis, and Matplotlib and Seaborn lent their expertise in crafting visually appealing data representations. With great care, we loaded our dataset named 'diabetes_binary_health_indicators_BRFSS2015.csv' consisting of 253,680 CDC's survey responses into a Pandas DataFrame, marking the commencement of our research journey.\n",
    "\n",
    "We began by closely examining the data, grouping it, tallying important details, ensuring that no crucial information was left out. Our focus then shifted towards individuals with diabetes, delving deeper into their characteristics. To gain a comprehensive understanding of the relationships between various factors, we employed a special chart known as a Spearman correlation matrix. This matrix was transformed into a captivating heatmap, illuminating the interconnections between different variables. \n",
    "\n",
    "We have displayed the probability of diabetes occurence in individuals with other health conditions using bar graphs. The results indicated a higher probability of diabetes occurence in individuals with other health conditions. Displaying probability of diabetes occurence at different BMI levels indicated that there is an increasing occurence of diabetes in individuals with higher BMI values.\n",
    "\n",
    "We have clearly formulated our null and alternative hypotheses. The null hypothesis stated that there is no difference in the occurrence of diabetes based on other health factors, while the alternative hypothesis suggested that the occurrence of diabetes differs based on health factors.\n",
    "\n",
    "The chi-square statistical test was employed to further investigate the relationship between diabetes occurrence and BMI categories. The results of this test revealed a significant association between diabetes occurrence and different BMI categories, with a calculated chi-square statistic considerably higher than the critical value.\n",
    "\n",
    "\n",
    "Similarly, chi-square statistical tests were also applied to explore the relationship between diabetes and other health conditions, such as high blood pressure, high cholesterol, stroke, and heart disease or attack. In all cases, the chi-square statistics were markedly higher than the critical values, leading to the rejection of the null hypothesis. This indicates a significant association between diabetes and these health conditions.\n",
    "\n",
    "The results provide strong evidence that diabetes is significantly associated with high blood pressure, high cholesterol, stroke, and heart disease or attack. This has implications for understanding the relationships between these health conditions and indicates the importance of considering these factors in the context of diabetes management and prevention.\n",
    "\n",
    "While statistical significance is important, it's also valuable to consider the practical significance of the findings. In a real-world context, understanding the strength of these associations and their implications for healthcare and public health interventions can be crucial.\n"
   ]
  },
  {
   "cell_type": "markdown",
   "id": "f7db5905",
   "metadata": {},
   "source": [
    "# Insights:"
   ]
  },
  {
   "cell_type": "markdown",
   "id": "e9f38b06",
   "metadata": {},
   "source": [
    "- Having high blood pressure, high cholesterol, stroke, heart attack and being overweight (having a higher BMI) increases the chances of getting diabetes. This matches what doctors already know about these things being risky for diabetes.\n",
    "\n",
    "- Engaging in regular physical activity has been found to have a negative correlation with diabetes, indicating that individuals who are more physically active have a lower risk of developing the condition.\n",
    "\n",
    "- Socioeconomic factors such as education and income also shows negative correlations with diabetes, suggesting that individuals with higher socioeconomic status may have a lower chances of developing the disease.\n",
    "\n",
    "- It is worth noting that mental health and physical health have positive correlations with diabetes, possibly indicating that diabetes can impact or is associated with other health issues.\n",
    "\n",
    "- Based on our data, it seems like we should focus on helping people with high blood pressure, especially if we want to prevent diabetes.\n",
    "\n",
    "- The analysis supports the alternative hypothesis that the occurrence of diabetes varies based on health factors, rather than the null hypothesis that there is no difference in diabetes occurrence based on other health factors. However, it is important to note that correlation does not imply causation, and further statistical testing would be required to validate these findings."
   ]
  },
  {
   "cell_type": "markdown",
   "id": "603b1706",
   "metadata": {},
   "source": [
    "# References:"
   ]
  },
  {
   "cell_type": "markdown",
   "id": "870ff91c",
   "metadata": {},
   "source": [
    "- Teboul, A. (n.d.). Diabetes Health Indicators Dataset. Kaggle. Retrieved from https://www.kaggle.com/datasets/alexteboul/diabetes-health-indicators-dataset<br>\n",
    "\n",
    "\n",
    "- Centers for Disease Control and Prevention. (n.d.). What is Diabetes? Retrieved from https://www.cdc.gov/diabetes/basics/diabetes.html<br>\n",
    "\n",
    "\n",
    "- Government of Canada. (n.d.). Your Guide to Diabetes. Public Health Agency of Canada. Retrieved from https://www.canada.ca/en/public-health/services/publications/diseases-conditions/your-guide-diabetes.html<br>\n",
    "\n",
    "\n",
    "- Lontchi-Yimagou, E., Dasgupta, R., Anoop, S., Kehlenbrink, S., Koppaka, S., Goyal, A., Venkatesan, P., Livingstone, R. S., Ye, K., Chapla, A., Carey, M. A., Jose, A., Rebekah, G., Wickramanayake, A., Joseph, M., Mathias, P., Manavalan, A., Kurian, M. E., Inbakumari, M., . . . Hawkins, M. (2022). An atypical form of diabetes among individuals with low BMI. Diabetes Care, 45(6), 1428–1437. https://doi.org/10.2337/dc21-1957<br>"
   ]
  },
  {
   "cell_type": "code",
   "execution_count": null,
   "id": "29365c4d",
   "metadata": {},
   "outputs": [],
   "source": []
  }
 ],
 "metadata": {
  "kernelspec": {
   "display_name": "Python 3 (ipykernel)",
   "language": "python",
   "name": "python3"
  },
  "language_info": {
   "codemirror_mode": {
    "name": "ipython",
    "version": 3
   },
   "file_extension": ".py",
   "mimetype": "text/x-python",
   "name": "python",
   "nbconvert_exporter": "python",
   "pygments_lexer": "ipython3",
   "version": "3.11.4"
  }
 },
 "nbformat": 4,
 "nbformat_minor": 5
}
